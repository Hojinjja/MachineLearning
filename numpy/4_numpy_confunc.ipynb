{
 "cells": [
  {
   "cell_type": "code",
   "execution_count": 3,
   "id": "initial_id",
   "metadata": {
    "collapsed": true,
    "ExecuteTime": {
     "end_time": "2024-04-02T14:20:27.687966700Z",
     "start_time": "2024-04-02T14:20:27.678103100Z"
    }
   },
   "outputs": [
    {
     "name": "stdout",
     "output_type": "stream",
     "text": [
      "수직 스택 합:\n",
      " [[1 2 3 4]\n",
      " [5 6 7 8]]\n",
      "수평 스택 합:\n",
      " [1 2 3 4 5 6 7 8]\n"
     ]
    }
   ],
   "source": [
    "#101페이지\n",
    "import numpy as np\n",
    "\n",
    "v1 = np.array([1,2,3,4])\n",
    "v2 = np.array([5,6,7,8])\n",
    "vstack_array=np.vstack((v1, v2)) #vstack() = vertical stack (수직 스택)\n",
    "hstack_arrry=np.hstack((v1,v2)) #hsatck() = horizontal stack (수평 스택)\n",
    "print(\"수직 스택 합:\\n\",vstack_array) #v1/v2를 수직으로 합침\n",
    "print(\"수평 스택 합:\\n\",hstack_arrry) #v1/v2를 수평으로 합침"
   ]
  },
  {
   "cell_type": "code",
   "outputs": [
    {
     "name": "stdout",
     "output_type": "stream",
     "text": [
      "re_v1:\n",
      " [[1]\n",
      " [2]\n",
      " [3]\n",
      " [4]] \n",
      " re_v2:\n",
      " [[5]\n",
      " [6]\n",
      " [7]\n",
      " [8]] \n",
      "\n",
      "수평 스택: hstack(re_v1,re_v2)\n",
      " [[1 5]\n",
      " [2 6]\n",
      " [3 7]\n",
      " [4 8]]\n",
      "수직 스택: vstack(re_v1,re_v2)\n",
      " [[1]\n",
      " [2]\n",
      " [3]\n",
      " [4]\n",
      " [5]\n",
      " [6]\n",
      " [7]\n",
      " [8]]\n"
     ]
    }
   ],
   "source": [
    "re_v1 = v1.reshape(-1,1) # 열의 수는 1개 , 행의 수는 크기에 맞게 알아서\n",
    "re_v2 = v2.reshape(-1,1)\n",
    "print(\"re_v1:\\n\",re_v1,\"\\n\",\"re_v2:\\n\",re_v2,\"\\n\")\n",
    "print(\"수평 스택: hstack(re_v1,re_v2)\\n\", np.hstack((re_v1,re_v2)))\n",
    "print(\"수직 스택: vstack(re_v1,re_v2)\\n\", np.vstack((re_v1,re_v2)))"
   ],
   "metadata": {
    "collapsed": false,
    "ExecuteTime": {
     "end_time": "2024-04-02T14:22:04.552218400Z",
     "start_time": "2024-04-02T14:22:04.538668800Z"
    }
   },
   "id": "a7366ce4af4f2a6d",
   "execution_count": 5
  },
  {
   "cell_type": "code",
   "outputs": [
    {
     "name": "stdout",
     "output_type": "stream",
     "text": [
      "v3:\n",
      " [[1 2]\n",
      " [3 4]]\n",
      "v4:\n",
      " [[5]\n",
      " [6]]\n",
      "concatenate_v3_v4:\n",
      " [[1 2 5]\n",
      " [3 4 6]]\n"
     ]
    }
   ],
   "source": [
    "v3= np.array([1,2,3,4]).reshape(2,2)\n",
    "v4= np.array([[5,6]]).T # .T = 전치 매서드 (transpose) / 행을-> 열로 / 열을 -> 행으로/\n",
    "print(\"v3:\\n\",v3)\n",
    "print(\"v4:\\n\",v4)\n",
    "concatenate_v3_v4 = np.concatenate((v3,v4),axis=1) # v1,v2를 axis=1을 기준으로 연결한다. *연결하려는 배열 간에 차원이 같아야 한다*\n",
    "print(\"concatenate_v3_v4:\\n\",concatenate_v3_v4)"
   ],
   "metadata": {
    "collapsed": false,
    "ExecuteTime": {
     "end_time": "2024-04-02T14:25:21.296222100Z",
     "start_time": "2024-04-02T14:25:21.277212700Z"
    }
   },
   "id": "f1cf565a27b3017f",
   "execution_count": 8
  },
  {
   "cell_type": "code",
   "outputs": [
    {
     "name": "stdout",
     "output_type": "stream",
     "text": [
      "x배열:\n",
      " [[1 2 3]\n",
      " [4 5 6]]\n",
      "x+x:\n",
      " [[ 2  4  6]\n",
      " [ 8 10 12]]\n",
      "x-x:\n",
      " [[0 0 0]\n",
      " [0 0 0]]\n",
      "x/x:\n",
      " [[1. 1. 1.]\n",
      " [1. 1. 1.]]\n",
      "x**x:\n",
      " [[    1     4    27]\n",
      " [  256  3125 46656]]\n"
     ]
    }
   ],
   "source": [
    "x= np.arange(1,7).reshape(2,3)\n",
    "print(\"x배열:\\n\",x)\n",
    "print(\"x+x:\\n\",x+x) # 행간 덧셈\n",
    "print(\"x-x:\\n\",x-x) # 행간 뺄셈\n",
    "print(\"x/x:\\n\",x/x) # 행간 나눗셈\n",
    "print(\"x**x:\\n\",x**x) # 행간 제곱"
   ],
   "metadata": {
    "collapsed": false,
    "ExecuteTime": {
     "end_time": "2024-04-02T14:27:09.433687500Z",
     "start_time": "2024-04-02T14:27:09.424335800Z"
    }
   },
   "id": "c479496ed9fdbef5",
   "execution_count": 13
  },
  {
   "cell_type": "code",
   "outputs": [
    {
     "name": "stdout",
     "output_type": "stream",
     "text": [
      "x_1:\n",
      " [[1 2 3]\n",
      " [4 5 6]]\n",
      "x_2:\n",
      " [[1 2]\n",
      " [3 4]\n",
      " [5 6]]\n",
      "x_1.dot(x_2)\n",
      " [[22 28]\n",
      " [49 64]]\n"
     ]
    }
   ],
   "source": [
    "x_1= np.arange(1,7).reshape(2,3) #2x3 배열\n",
    "x_2= np.arange(1,7).reshape(3,2) #3x2 배열\n",
    "\n",
    "print(\"x_1:\\n\",x_1)\n",
    "print(\"x_2:\\n\",x_2)\n",
    "print(\"x_1.dot(x_2)\\n\",x_1.dot(x_2)) # 내적연산 (p.109) ->행 곱셈 "
   ],
   "metadata": {
    "collapsed": false,
    "ExecuteTime": {
     "end_time": "2024-04-02T14:25:44.461751400Z",
     "start_time": "2024-04-02T14:25:44.435263600Z"
    }
   },
   "id": "c5644f91c0f698ab",
   "execution_count": 10
  },
  {
   "cell_type": "code",
   "outputs": [
    {
     "name": "stdout",
     "output_type": "stream",
     "text": [
      "y+10:\n",
      " [[11 12 13]\n",
      " [14 15 16]\n",
      " [17 18 19]]\n",
      "y-2:\n",
      " [[-1  0  1]\n",
      " [ 2  3  4]\n",
      " [ 5  6  7]]\n",
      "y//3:\n",
      " [[0 0 1]\n",
      " [1 1 2]\n",
      " [2 2 3]]\n",
      "y**2\n",
      " [[ 1  4  9]\n",
      " [16 25 36]\n",
      " [49 64 81]]\n"
     ]
    }
   ],
   "source": [
    "y=np.arange(1,10).reshape(3,3) ## 스칼라 계산\n",
    "print(\"y+10:\\n\",y+10)\n",
    "print(\"y-2:\\n\",y-2)\n",
    "print(\"y//3:\\n\",y//3)\n",
    "print(\"y**2\\n\",y**2)"
   ],
   "metadata": {
    "collapsed": false,
    "ExecuteTime": {
     "end_time": "2024-04-02T14:25:51.269291800Z",
     "start_time": "2024-04-02T14:25:51.233523200Z"
    }
   },
   "id": "76871ae40fdb83bd",
   "execution_count": 11
  },
  {
   "cell_type": "code",
   "outputs": [
    {
     "name": "stdout",
     "output_type": "stream",
     "text": [
      "v:\n",
      " [[ 1  2  3]\n",
      " [ 4  5  6]\n",
      " [ 7  8  9]\n",
      " [10 11 12]]\n",
      "z:\n",
      " [10 20 30]\n",
      "v+z:\n",
      " [[11 22 33]\n",
      " [14 25 36]\n",
      " [17 28 39]\n",
      " [20 31 42]]\n"
     ]
    }
   ],
   "source": [
    "#브로드 캐스팅 연산 p.112\n",
    "v=np.arange(1,13).reshape(4,3) # 4행 3열\n",
    "z=np.arange(10,40,10) # 10부터 40까지 10을 간격으로 [10,20,30]\n",
    "print(\"v:\\n\",v)\n",
    "print(\"z:\\n\",z)\n",
    "print(\"v+z:\\n\",v+z) # 브로드 캐스팅 연산 -> 4행 3열 + [10,20,30] 복제해서 4행으로 만듦 / 앞의 행렬에 맞춰서 벡터를 행렬로 만듦\n"
   ],
   "metadata": {
    "collapsed": false,
    "ExecuteTime": {
     "end_time": "2024-04-02T14:26:01.189226400Z",
     "start_time": "2024-04-02T14:26:01.175663Z"
    }
   },
   "id": "ee606332c8c71502",
   "execution_count": 12
  },
  {
   "cell_type": "code",
   "outputs": [],
   "source": [],
   "metadata": {
    "collapsed": false
   },
   "id": "63bf66208720d3e9"
  }
 ],
 "metadata": {
  "kernelspec": {
   "display_name": "Python 3",
   "language": "python",
   "name": "python3"
  },
  "language_info": {
   "codemirror_mode": {
    "name": "ipython",
    "version": 2
   },
   "file_extension": ".py",
   "mimetype": "text/x-python",
   "name": "python",
   "nbconvert_exporter": "python",
   "pygments_lexer": "ipython2",
   "version": "2.7.6"
  }
 },
 "nbformat": 4,
 "nbformat_minor": 5
}
