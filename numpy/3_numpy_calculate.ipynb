{
 "cells": [
  {
   "cell_type": "code",
   "execution_count": 2,
   "id": "initial_id",
   "metadata": {
    "collapsed": true,
    "ExecuteTime": {
     "end_time": "2024-04-02T14:12:29.383445800Z",
     "start_time": "2024-04-02T14:12:29.377932300Z"
    }
   },
   "outputs": [
    {
     "name": "stdout",
     "output_type": "stream",
     "text": [
      "sum= 55\n"
     ]
    }
   ],
   "source": [
    "import numpy as np\n",
    "test_array = np.arange(1,11)\n",
    "array_sum = test_array.sum()\n",
    "print(\"sum=\",array_sum)\n"
   ]
  },
  {
   "cell_type": "code",
   "outputs": [
    {
     "name": "stdout",
     "output_type": "stream",
     "text": [
      "[[ 1  2  3  4]\n",
      " [ 5  6  7  8]\n",
      " [ 9 10 11 12]]\n",
      "열의 방향 합 [15 18 21 24]\n",
      "행의 방향 합 [10 26 42]\n"
     ]
    }
   ],
   "source": [
    "test_array2 = np.arange(1,13).reshape(3,4) # 1~12까지 3행 4열로 생성\n",
    "print(test_array2)\n",
    "array2_sum_raw = test_array2.sum(axis=0) # axis=0 (열의 방향으로 )\n",
    "array2_sum_column= test_array2.sum(axis=1) # axis=1 (행의 방향으로)\n",
    "print(\"열의 방향 합\",array2_sum_raw)\n",
    "print(\"행의 방향 합\",array2_sum_column)"
   ],
   "metadata": {
    "collapsed": false,
    "ExecuteTime": {
     "end_time": "2024-04-02T14:12:32.628572500Z",
     "start_time": "2024-04-02T14:12:32.611085800Z"
    }
   },
   "id": "5c9d7ec35db4300a",
   "execution_count": 3
  },
  {
   "cell_type": "code",
   "outputs": [
    {
     "name": "stdout",
     "output_type": "stream",
     "text": [
      "3차원 행렬\n",
      " [[[ 1  2  3  4]\n",
      "  [ 5  6  7  8]\n",
      "  [ 9 10 11 12]]\n",
      "\n",
      " [[ 1  2  3  4]\n",
      "  [ 5  6  7  8]\n",
      "  [ 9 10 11 12]]\n",
      "\n",
      " [[ 1  2  3  4]\n",
      "  [ 5  6  7  8]\n",
      "  [ 9 10 11 12]]]\n",
      "3차원 행렬 axis=0 합:\n",
      "  [[ 3  6  9 12]\n",
      " [15 18 21 24]\n",
      " [27 30 33 36]]\n",
      "3차원 행렬 axis=1 합:\n",
      "  [[15 18 21 24]\n",
      " [15 18 21 24]\n",
      " [15 18 21 24]]\n",
      "3차원 행렬 axis=2 합:\n",
      "  [[10 26 42]\n",
      " [10 26 42]\n",
      " [10 26 42]]\n"
     ]
    }
   ],
   "source": [
    "#3차원 axis 합 예시\n",
    "third_array = np.arange(1,13).reshape(3,4)\n",
    "third_array_tensor = np.array([third_array,third_array,third_array])\n",
    "third_array_tensor_axis0 = third_array_tensor.sum(axis=0)\n",
    "third_array2_tensor_axis1 = third_array_tensor.sum(axis=1)\n",
    "third_array2_tensor_axis2 = third_array_tensor.sum(axis=2)\n",
    "\n",
    "print(\"3차원 행렬\\n\",third_array_tensor)\n",
    "print(\"3차원 행렬 axis=0 합:\\n \", third_array_tensor_axis0)\n",
    "print(\"3차원 행렬 axis=1 합:\\n \", third_array2_tensor_axis1)\n",
    "print(\"3차원 행렬 axis=2 합:\\n \", third_array2_tensor_axis2)"
   ],
   "metadata": {
    "collapsed": false,
    "ExecuteTime": {
     "end_time": "2024-04-02T14:13:13.475636600Z",
     "start_time": "2024-04-02T14:13:13.463064Z"
    }
   },
   "id": "310458ac46bab919",
   "execution_count": 6
  },
  {
   "cell_type": "code",
   "outputs": [
    {
     "name": "stdout",
     "output_type": "stream",
     "text": [
      "3x4 행렬:\n",
      "  [[ 1  2  3  4]\n",
      " [ 5  6  7  8]\n",
      " [ 9 10 11 12]]\n",
      "전체 평균:\n",
      " 6.5\n",
      "축 기준 평균:\n",
      " [5. 6. 7. 8.]\n",
      "전체 표준편차 :\n",
      " 3.452052529534663\n",
      "축 기준 표준편차:\n",
      " [1.11803399 1.11803399 1.11803399]\n",
      "각 요소 제곱근:\n",
      " [[1.         1.41421356 1.73205081 2.        ]\n",
      " [2.23606798 2.44948974 2.64575131 2.82842712]\n",
      " [3.         3.16227766 3.31662479 3.46410162]]\n"
     ]
    }
   ],
   "source": [
    "#수학 연산 \n",
    "test_array3= np.arange(1,13).reshape(3,4)\n",
    "test_array3_mean = test_array3.mean() #전체 평균 계산\n",
    "test_array3_mean_axis = test_array3.mean(axis=0) #축을 기준으로 평균(행)\n",
    "test_array3_std = test_array3.std() #전체 표준편차\n",
    "test_array3_std_axis=test_array3.std(axis=1) # 축을 기준으로 표준편차(열)\n",
    "test_array3_sqrt = np.sqrt(test_array3) # 각 요소에 제곱근 연산\n",
    "\n",
    "print(\"3x4 행렬:\\n \", test_array3)\n",
    "print(\"전체 평균:\\n\",test_array3_mean)\n",
    "print(\"축 기준 평균:\\n\",test_array3_mean_axis) #axis=0 기준 -> 행 기준\n",
    "print(\"전체 표준편차 :\\n\",test_array3_std)\n",
    "print(\"축 기준 표준편차:\\n\",test_array3_std_axis) #axis=1 기준 ->열 기준 \n",
    "print(\"각 요소 제곱근:\\n\",test_array3_sqrt)"
   ],
   "metadata": {
    "collapsed": false,
    "ExecuteTime": {
     "end_time": "2024-04-02T14:17:53.862032700Z",
     "start_time": "2024-04-02T14:17:53.849948Z"
    }
   },
   "id": "c2301f0c9aae38c8",
   "execution_count": 8
  },
  {
   "cell_type": "code",
   "outputs": [],
   "source": [],
   "metadata": {
    "collapsed": false
   },
   "id": "f8324ed8570cb62f"
  }
 ],
 "metadata": {
  "kernelspec": {
   "display_name": "Python 3",
   "language": "python",
   "name": "python3"
  },
  "language_info": {
   "codemirror_mode": {
    "name": "ipython",
    "version": 2
   },
   "file_extension": ".py",
   "mimetype": "text/x-python",
   "name": "python",
   "nbconvert_exporter": "python",
   "pygments_lexer": "ipython2",
   "version": "2.7.6"
  }
 },
 "nbformat": 4,
 "nbformat_minor": 5
}
