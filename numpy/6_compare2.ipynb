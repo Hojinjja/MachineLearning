{
 "cells": [
  {
   "cell_type": "raw",
   "source": [],
   "metadata": {
    "collapsed": false
   },
   "id": "f77ac5d0466c6574"
  },
  {
   "cell_type": "code",
   "outputs": [],
   "source": [
    "import numpy as np"
   ],
   "metadata": {
    "collapsed": false,
    "ExecuteTime": {
     "end_time": "2024-03-26T01:57:45.986644Z",
     "start_time": "2024-03-26T01:57:44.675370600Z"
    }
   },
   "id": "da3e162431e8d8df",
   "execution_count": 2
  },
  {
   "cell_type": "code",
   "outputs": [
    {
     "data": {
      "text/plain": "array([False, False,  True,  True,  True])"
     },
     "execution_count": 3,
     "metadata": {},
     "output_type": "execute_result"
    }
   ],
   "source": [
    "x=np.array([4,5,6,7,8])\n",
    "x>5"
   ],
   "metadata": {
    "collapsed": false,
    "ExecuteTime": {
     "end_time": "2024-03-26T01:58:15.719356600Z",
     "start_time": "2024-03-26T01:58:15.654718500Z"
    }
   },
   "id": "1c4ac1d52a145d86",
   "execution_count": 3
  },
  {
   "cell_type": "code",
   "outputs": [
    {
     "data": {
      "text/plain": "(array([1, 2, 3, 4], dtype=int64),)"
     },
     "execution_count": 6,
     "metadata": {},
     "output_type": "execute_result"
    }
   ],
   "source": [
    "#where = 조건에 맞는 인덱스 추출 \n",
    "np.where(x>4)"
   ],
   "metadata": {
    "collapsed": false,
    "ExecuteTime": {
     "end_time": "2024-03-26T01:58:55.721075400Z",
     "start_time": "2024-03-26T01:58:55.603096700Z"
    }
   },
   "id": "8f975dad758644fa",
   "execution_count": 6
  },
  {
   "cell_type": "code",
   "outputs": [
    {
     "name": "stdout",
     "output_type": "stream",
     "text": [
      "argsort: [3 4 0 1 2 6 5]\n",
      "argmax: 5\n",
      "argmin: 3\n"
     ]
    }
   ],
   "source": [
    "x=np.array([3,4,5,1,2,8,7])\n",
    "print(\"argsort:\",np.argsort(x)) # 배열 내 값 중 작은 순서대로 인덱스 반환\n",
    "print(\"argmax:\",np.argmax(x)) # 배열 내 값 중 가장 큰 값의 인덱스 반환\n",
    "print(\"argmin:\",np.argmin(x)) # 배열 내 값 중 가장 작은 값의 인덱스 반환"
   ],
   "metadata": {
    "collapsed": false,
    "ExecuteTime": {
     "end_time": "2024-03-26T02:02:44.104099100Z",
     "start_time": "2024-03-26T02:02:44.007908500Z"
    }
   },
   "id": "156452bbcd379081",
   "execution_count": 11
  },
  {
   "cell_type": "code",
   "outputs": [
    {
     "name": "stdout",
     "output_type": "stream",
     "text": [
      "x>3: [ True  True  True False False]\n",
      "x[cond]: [4 6 7]\n",
      "x.shape: (5,)\n"
     ]
    }
   ],
   "source": [
    "x=np.array([4,6,7,3,2])\n",
    "print(\"x>3:\",x>3) ## boolean 형으로 출력된다\n",
    "cond=x>3 ## x>3인 조건을 cond에 넣음 \n",
    "print(\"x[cond]:\", x[cond]) ## x[cond]라고 하면 조건에 만족한 값을 출력함. \n",
    "print(\"x.shape:\", x.shape) ## x의 구조를 출력 (5,) -> 크기 5인 1차원 배열 가나다  "
   ],
   "metadata": {
    "collapsed": false,
    "ExecuteTime": {
     "end_time": "2024-03-26T02:09:33.905698500Z",
     "start_time": "2024-03-26T02:09:33.837721800Z"
    }
   },
   "id": "79e044314d8ad0e4",
   "execution_count": 18
  },
  {
   "cell_type": "code",
   "outputs": [
    {
     "ename": "NameError",
     "evalue": "name 'np' is not defined",
     "output_type": "error",
     "traceback": [
      "\u001B[1;31m---------------------------------------------------------------------------\u001B[0m",
      "\u001B[1;31mNameError\u001B[0m                                 Traceback (most recent call last)",
      "Cell \u001B[1;32mIn[1], line 2\u001B[0m\n\u001B[0;32m      1\u001B[0m \u001B[38;5;66;03m#팬시 인덱스\u001B[39;00m\n\u001B[1;32m----> 2\u001B[0m x\u001B[38;5;241m=\u001B[39m \u001B[43mnp\u001B[49m\u001B[38;5;241m.\u001B[39marray([\u001B[38;5;241m4\u001B[39m,\u001B[38;5;241m6\u001B[39m,\u001B[38;5;241m7\u001B[39m,\u001B[38;5;241m3\u001B[39m,\u001B[38;5;241m2\u001B[39m])\n\u001B[0;32m      3\u001B[0m cond \u001B[38;5;241m=\u001B[39m np\u001B[38;5;241m.\u001B[39marray([\u001B[38;5;241m1\u001B[39m,\u001B[38;5;241m2\u001B[39m,\u001B[38;5;241m2\u001B[39m,\u001B[38;5;241m3\u001B[39m],\u001B[38;5;28mint\u001B[39m) \u001B[38;5;66;03m## cond는 인덱스 값이 된다. \u001B[39;00m\n\u001B[0;32m      4\u001B[0m \u001B[38;5;28mprint\u001B[39m(\u001B[38;5;124m\"\u001B[39m\u001B[38;5;124mx[cond]\u001B[39m\u001B[38;5;124m\"\u001B[39m,x[cond]) \u001B[38;5;66;03m## x 배열에 cond 값 \u001B[39;00m\n",
      "\u001B[1;31mNameError\u001B[0m: name 'np' is not defined"
     ]
    }
   ],
   "source": [
    "#팬시 인덱스\n",
    "x= np.array([4,6,7,3,2])\n",
    "cond = np.array([1,2,2,3],int) ## cond는 인덱스 값이 된다. \n",
    "print(\"x[cond]\",x[cond]) ## x 배열에 cond 값 \n",
    "\n",
    "copy=x.take(cond) ## .take는 x[cond]의 값을 가져옴.\n",
    "print(\"copy:\",copy) \n"
   ],
   "metadata": {
    "collapsed": false,
    "ExecuteTime": {
     "end_time": "2024-03-28T10:11:27.428117800Z",
     "start_time": "2024-03-28T10:11:26.294634100Z"
    }
   },
   "id": "9b487ac81ffe67c4",
   "execution_count": 1
  }
 ],
 "metadata": {
  "kernelspec": {
   "display_name": "Python 3",
   "language": "python",
   "name": "python3"
  },
  "language_info": {
   "codemirror_mode": {
    "name": "ipython",
    "version": 2
   },
   "file_extension": ".py",
   "mimetype": "text/x-python",
   "name": "python",
   "nbconvert_exporter": "python",
   "pygments_lexer": "ipython2",
   "version": "2.7.6"
  }
 },
 "nbformat": 4,
 "nbformat_minor": 5
}
