{
 "cells": [
  {
   "cell_type": "code",
   "execution_count": 1,
   "id": "initial_id",
   "metadata": {
    "collapsed": true,
    "ExecuteTime": {
     "end_time": "2024-03-28T07:41:47.792894600Z",
     "start_time": "2024-03-28T07:41:47.754769300Z"
    }
   },
   "outputs": [],
   "source": [
    "#판다스는 데이터 테이블 형태의 2차원 데이터를 다룬다.\n",
    "#-판다스는 기본적으로 넘파이를 다루고 wrapper 라이브러리로 사용한다. \n",
    "#데이터 프레임 = 데이터 테이블 전체를 다루는 객체 \n",
    "#시리즈 = 리스트,튜블,넘파이 배열의 1차원 자료구조 - 데이터프레임의 한 행 or 열 \n",
    "#시리즈 객체 - >피쳐 벡터와 같은 개념으로 사용. \n",
    "#인덱스 -> 항상 0부터 시작하고 숫자로만 할당 가능했으나, 시리즈 객체에서는 문자열도 가능. \n",
    "#데이터 타입 -> 넘파이의 데이터 타입과 일치함. "
   ]
  },
  {
   "cell_type": "code",
   "outputs": [
    {
     "name": "stdout",
     "output_type": "stream",
     "text": [
      "a    1\n",
      "b    2\n",
      "c    3\n",
      "d    4\n",
      "e    5\n",
      "dtype: int64 \n",
      "\n",
      "Index(['a', 'b', 'c', 'd', 'e'], dtype='object') \n",
      "\n",
      "[1 2 3 4 5]\n",
      "<class 'numpy.ndarray'>\n"
     ]
    }
   ],
   "source": [
    "import pandas as pd \n",
    "import numpy as np \n",
    "from pandas import Series, DataFrame \n",
    "\n",
    "list_data = [1,2,3,4,5] \n",
    "list_name = [\"a\",\"b\",\"c\",\"d\",\"e\"]\n",
    "example_obj = Series(data = list_data,index = list_name) #data로는 list_data를 쓰고, index로는 list_name을 사용 \n",
    "print(example_obj,\"\\n\")\n",
    "print(example_obj.index,\"\\n\")\n",
    "print(example_obj.values,\"\\n\")\n",
    "print(type(example_obj.values))"
   ],
   "metadata": {
    "collapsed": false,
    "ExecuteTime": {
     "end_time": "2024-03-28T07:45:34.481439400Z",
     "start_time": "2024-03-28T07:45:34.401914200Z"
    }
   },
   "id": "40bcd674e936a024",
   "execution_count": 10
  },
  {
   "cell_type": "code",
   "outputs": [
    {
     "data": {
      "text/plain": "id\na    1\nb    2\nc    3\nd    4\ne    5\nName: number, dtype: int64"
     },
     "execution_count": 13,
     "metadata": {},
     "output_type": "execute_result"
    }
   ],
   "source": [
    "example_obj.name=\"number\" #데이터 프레임 이름 지정 \n",
    "example_obj.index.name=\"id\" #인덱스 이름 지정 \n",
    "example_obj"
   ],
   "metadata": {
    "collapsed": false,
    "ExecuteTime": {
     "end_time": "2024-03-28T07:47:13.496593500Z",
     "start_time": "2024-03-28T07:47:13.464223200Z"
    }
   },
   "id": "65095701ee1bfd7d",
   "execution_count": 13
  },
  {
   "cell_type": "code",
   "outputs": [
    {
     "data": {
      "text/plain": "a    1.0\nb    2.0\nc    3.0\nd    4.0\ne    5.0\nName: example_data, dtype: float32"
     },
     "execution_count": 15,
     "metadata": {},
     "output_type": "execute_result"
    }
   ],
   "source": [
    "dict_data = {\"a\":1,\"b\":2,\"c\":3,\"d\":4,\"e\":5} #키 값은 인덱스로 사용\n",
    "example_obj = Series(dict_data, dtype=np.float32, name=\"example_data\") #value 값은 데이터로 사용 ,datatype, 데이터 열 이름 지정 가능 \n",
    "example_obj"
   ],
   "metadata": {
    "collapsed": false,
    "ExecuteTime": {
     "end_time": "2024-03-28T07:48:27.508939100Z",
     "start_time": "2024-03-28T07:48:27.392478600Z"
    }
   },
   "id": "58527a8b94210e59",
   "execution_count": 15
  },
  {
   "cell_type": "code",
   "outputs": [
    {
     "data": {
      "text/plain": "          0     1      2   3      4      5     6       7   8      9     10  \\\n0    0.00632  18.0   2.31   0  0.538  6.575  65.2  4.0900   1  296.0  15.3   \n1    0.02731   0.0   7.07   0  0.469  6.421  78.9  4.9671   2  242.0  17.8   \n2    0.02729   0.0   7.07   0  0.469  7.185  61.1  4.9671   2  242.0  17.8   \n3    0.03237   0.0   2.18   0  0.458  6.998  45.8  6.0622   3  222.0  18.7   \n4    0.06905   0.0   2.18   0  0.458  7.147  54.2  6.0622   3  222.0  18.7   \n..       ...   ...    ...  ..    ...    ...   ...     ...  ..    ...   ...   \n501  0.06263   0.0  11.93   0  0.573  6.593  69.1  2.4786   1  273.0  21.0   \n502  0.04527   0.0  11.93   0  0.573  6.120  76.7  2.2875   1  273.0  21.0   \n503  0.06076   0.0  11.93   0  0.573  6.976  91.0  2.1675   1  273.0  21.0   \n504  0.10959   0.0  11.93   0  0.573  6.794  89.3  2.3889   1  273.0  21.0   \n505  0.04741   0.0  11.93   0  0.573  6.030  80.8  2.5050   1  273.0  21.0   \n\n         11    12    13  \n0    396.90  4.98  24.0  \n1    396.90  9.14  21.6  \n2    392.83  4.03  34.7  \n3    394.63  2.94  33.4  \n4    396.90  5.33  36.2  \n..      ...   ...   ...  \n501  391.99  9.67  22.4  \n502  396.90  9.08  20.6  \n503  396.90  5.64  23.9  \n504  393.45  6.48  22.0  \n505  396.90  7.88  11.9  \n\n[506 rows x 14 columns]",
      "text/html": "<div>\n<style scoped>\n    .dataframe tbody tr th:only-of-type {\n        vertical-align: middle;\n    }\n\n    .dataframe tbody tr th {\n        vertical-align: top;\n    }\n\n    .dataframe thead th {\n        text-align: right;\n    }\n</style>\n<table border=\"1\" class=\"dataframe\">\n  <thead>\n    <tr style=\"text-align: right;\">\n      <th></th>\n      <th>0</th>\n      <th>1</th>\n      <th>2</th>\n      <th>3</th>\n      <th>4</th>\n      <th>5</th>\n      <th>6</th>\n      <th>7</th>\n      <th>8</th>\n      <th>9</th>\n      <th>10</th>\n      <th>11</th>\n      <th>12</th>\n      <th>13</th>\n    </tr>\n  </thead>\n  <tbody>\n    <tr>\n      <th>0</th>\n      <td>0.00632</td>\n      <td>18.0</td>\n      <td>2.31</td>\n      <td>0</td>\n      <td>0.538</td>\n      <td>6.575</td>\n      <td>65.2</td>\n      <td>4.0900</td>\n      <td>1</td>\n      <td>296.0</td>\n      <td>15.3</td>\n      <td>396.90</td>\n      <td>4.98</td>\n      <td>24.0</td>\n    </tr>\n    <tr>\n      <th>1</th>\n      <td>0.02731</td>\n      <td>0.0</td>\n      <td>7.07</td>\n      <td>0</td>\n      <td>0.469</td>\n      <td>6.421</td>\n      <td>78.9</td>\n      <td>4.9671</td>\n      <td>2</td>\n      <td>242.0</td>\n      <td>17.8</td>\n      <td>396.90</td>\n      <td>9.14</td>\n      <td>21.6</td>\n    </tr>\n    <tr>\n      <th>2</th>\n      <td>0.02729</td>\n      <td>0.0</td>\n      <td>7.07</td>\n      <td>0</td>\n      <td>0.469</td>\n      <td>7.185</td>\n      <td>61.1</td>\n      <td>4.9671</td>\n      <td>2</td>\n      <td>242.0</td>\n      <td>17.8</td>\n      <td>392.83</td>\n      <td>4.03</td>\n      <td>34.7</td>\n    </tr>\n    <tr>\n      <th>3</th>\n      <td>0.03237</td>\n      <td>0.0</td>\n      <td>2.18</td>\n      <td>0</td>\n      <td>0.458</td>\n      <td>6.998</td>\n      <td>45.8</td>\n      <td>6.0622</td>\n      <td>3</td>\n      <td>222.0</td>\n      <td>18.7</td>\n      <td>394.63</td>\n      <td>2.94</td>\n      <td>33.4</td>\n    </tr>\n    <tr>\n      <th>4</th>\n      <td>0.06905</td>\n      <td>0.0</td>\n      <td>2.18</td>\n      <td>0</td>\n      <td>0.458</td>\n      <td>7.147</td>\n      <td>54.2</td>\n      <td>6.0622</td>\n      <td>3</td>\n      <td>222.0</td>\n      <td>18.7</td>\n      <td>396.90</td>\n      <td>5.33</td>\n      <td>36.2</td>\n    </tr>\n    <tr>\n      <th>...</th>\n      <td>...</td>\n      <td>...</td>\n      <td>...</td>\n      <td>...</td>\n      <td>...</td>\n      <td>...</td>\n      <td>...</td>\n      <td>...</td>\n      <td>...</td>\n      <td>...</td>\n      <td>...</td>\n      <td>...</td>\n      <td>...</td>\n      <td>...</td>\n    </tr>\n    <tr>\n      <th>501</th>\n      <td>0.06263</td>\n      <td>0.0</td>\n      <td>11.93</td>\n      <td>0</td>\n      <td>0.573</td>\n      <td>6.593</td>\n      <td>69.1</td>\n      <td>2.4786</td>\n      <td>1</td>\n      <td>273.0</td>\n      <td>21.0</td>\n      <td>391.99</td>\n      <td>9.67</td>\n      <td>22.4</td>\n    </tr>\n    <tr>\n      <th>502</th>\n      <td>0.04527</td>\n      <td>0.0</td>\n      <td>11.93</td>\n      <td>0</td>\n      <td>0.573</td>\n      <td>6.120</td>\n      <td>76.7</td>\n      <td>2.2875</td>\n      <td>1</td>\n      <td>273.0</td>\n      <td>21.0</td>\n      <td>396.90</td>\n      <td>9.08</td>\n      <td>20.6</td>\n    </tr>\n    <tr>\n      <th>503</th>\n      <td>0.06076</td>\n      <td>0.0</td>\n      <td>11.93</td>\n      <td>0</td>\n      <td>0.573</td>\n      <td>6.976</td>\n      <td>91.0</td>\n      <td>2.1675</td>\n      <td>1</td>\n      <td>273.0</td>\n      <td>21.0</td>\n      <td>396.90</td>\n      <td>5.64</td>\n      <td>23.9</td>\n    </tr>\n    <tr>\n      <th>504</th>\n      <td>0.10959</td>\n      <td>0.0</td>\n      <td>11.93</td>\n      <td>0</td>\n      <td>0.573</td>\n      <td>6.794</td>\n      <td>89.3</td>\n      <td>2.3889</td>\n      <td>1</td>\n      <td>273.0</td>\n      <td>21.0</td>\n      <td>393.45</td>\n      <td>6.48</td>\n      <td>22.0</td>\n    </tr>\n    <tr>\n      <th>505</th>\n      <td>0.04741</td>\n      <td>0.0</td>\n      <td>11.93</td>\n      <td>0</td>\n      <td>0.573</td>\n      <td>6.030</td>\n      <td>80.8</td>\n      <td>2.5050</td>\n      <td>1</td>\n      <td>273.0</td>\n      <td>21.0</td>\n      <td>396.90</td>\n      <td>7.88</td>\n      <td>11.9</td>\n    </tr>\n  </tbody>\n</table>\n<p>506 rows × 14 columns</p>\n</div>"
     },
     "execution_count": 9,
     "metadata": {},
     "output_type": "execute_result"
    }
   ],
   "source": [
    "import pandas as pd\n",
    "data_url = 'https://archive.ics.uci.edu/ml/machine-learning-databases/housing/housing.data'\n",
    "df_data=pd.read_csv(data_url,sep='\\\\s+',header=None) ##csv 데이터 로드 , \\\\s+ -> 스페이스 한 개 이상으로 구분한다. \n",
    "df = pd.DataFrame(df_data)\n",
    "df"
   ],
   "metadata": {
    "collapsed": false,
    "ExecuteTime": {
     "end_time": "2024-04-01T03:30:13.278275900Z",
     "start_time": "2024-04-01T03:30:11.962763100Z"
    }
   },
   "id": "36b247318554f86",
   "execution_count": 9
  },
  {
   "cell_type": "code",
   "outputs": [
    {
     "data": {
      "text/plain": "  first_name last_name  age           city\n0      Jason    Miller   42  San Francisco\n1      Molly     Jacob   52      Baltimore\n2       Tina       Ali   22          Miami\n3       Jake     Cooze   24        Douglas\n4        Amy    Milner   71         Boston",
      "text/html": "<div>\n<style scoped>\n    .dataframe tbody tr th:only-of-type {\n        vertical-align: middle;\n    }\n\n    .dataframe tbody tr th {\n        vertical-align: top;\n    }\n\n    .dataframe thead th {\n        text-align: right;\n    }\n</style>\n<table border=\"1\" class=\"dataframe\">\n  <thead>\n    <tr style=\"text-align: right;\">\n      <th></th>\n      <th>first_name</th>\n      <th>last_name</th>\n      <th>age</th>\n      <th>city</th>\n    </tr>\n  </thead>\n  <tbody>\n    <tr>\n      <th>0</th>\n      <td>Jason</td>\n      <td>Miller</td>\n      <td>42</td>\n      <td>San Francisco</td>\n    </tr>\n    <tr>\n      <th>1</th>\n      <td>Molly</td>\n      <td>Jacob</td>\n      <td>52</td>\n      <td>Baltimore</td>\n    </tr>\n    <tr>\n      <th>2</th>\n      <td>Tina</td>\n      <td>Ali</td>\n      <td>22</td>\n      <td>Miami</td>\n    </tr>\n    <tr>\n      <th>3</th>\n      <td>Jake</td>\n      <td>Cooze</td>\n      <td>24</td>\n      <td>Douglas</td>\n    </tr>\n    <tr>\n      <th>4</th>\n      <td>Amy</td>\n      <td>Milner</td>\n      <td>71</td>\n      <td>Boston</td>\n    </tr>\n  </tbody>\n</table>\n</div>"
     },
     "execution_count": 17,
     "metadata": {},
     "output_type": "execute_result"
    }
   ],
   "source": [
    "from pandas import Series, DataFrame\n",
    "\n",
    "raw_data={'first_name':['Jason','Molly','Tina','Jake','Amy'],\n",
    "          'last_name':['Miller','Jacob','Ali','Cooze','Milner'],\n",
    "          'age':[42,52,22,24,71],\n",
    "          'city':['San Francisco','Baltimore','Miami','Douglas','Boston']\n",
    "          }\n",
    "df=pd.DataFrame(raw_data, columns = ['first_name', 'last_name', 'age','city'])\n",
    "df\n"
   ],
   "metadata": {
    "collapsed": false,
    "ExecuteTime": {
     "end_time": "2024-04-01T03:46:36.053963800Z",
     "start_time": "2024-04-01T03:46:35.897756100Z"
    }
   },
   "id": "7a5b1c389d2af28d",
   "execution_count": 17
  },
  {
   "cell_type": "markdown",
   "source": [],
   "metadata": {
    "collapsed": false
   },
   "id": "7307a1b7b114b6ce"
  },
  {
   "cell_type": "code",
   "outputs": [
    {
     "name": "stdout",
     "output_type": "stream",
     "text": [
      "Requirement already satisfied: pip in c:\\work\\machinerunning\\.venv\\lib\\site-packages (23.2.1)Note: you may need to restart the kernel to use updated packages.\n",
      "\n",
      "Collecting pip\n",
      "  Obtaining dependency information for pip from https://files.pythonhosted.org/packages/8a/6a/19e9fe04fca059ccf770861c7d5721ab4c2aebc539889e97c7977528a53b/pip-24.0-py3-none-any.whl.metadata\n",
      "  Downloading pip-24.0-py3-none-any.whl.metadata (3.6 kB)\n",
      "Downloading pip-24.0-py3-none-any.whl (2.1 MB)\n",
      "   ---------------------------------------- 0.0/2.1 MB ? eta -:--:--\n",
      "   ---- ----------------------------------- 0.3/2.1 MB 5.2 MB/s eta 0:00:01\n",
      "   -------------- ------------------------- 0.7/2.1 MB 7.8 MB/s eta 0:00:01\n",
      "   -------------------------- ------------- 1.4/2.1 MB 9.9 MB/s eta 0:00:01\n",
      "   ---------------------------------------  2.1/2.1 MB 11.1 MB/s eta 0:00:01\n",
      "   ---------------------------------------- 2.1/2.1 MB 9.6 MB/s eta 0:00:00\n",
      "Installing collected packages: pip\n",
      "  Attempting uninstall: pip\n",
      "    Found existing installation: pip 23.2.1\n",
      "    Uninstalling pip-23.2.1:\n",
      "      Successfully uninstalled pip-23.2.1\n",
      "Successfully installed pip-24.0\n"
     ]
    }
   ],
   "source": [
    "## 5월 9일 \n",
    "pip install --upgrade pip"
   ],
   "metadata": {
    "collapsed": false,
    "ExecuteTime": {
     "end_time": "2024-05-09T00:38:58.456471Z",
     "start_time": "2024-05-09T00:38:20.184612300Z"
    }
   },
   "id": "17ee0185d28848ce",
   "execution_count": 18
  },
  {
   "cell_type": "code",
   "outputs": [
    {
     "name": "stdout",
     "output_type": "stream",
     "text": [
      "Requirement already satisfied: openpyxl in c:\\work\\machinerunning\\.venv\\lib\\site-packages (3.1.2)\n",
      "Requirement already satisfied: et-xmlfile in c:\\work\\machinerunning\\.venv\\lib\\site-packages (from openpyxl) (1.1.0)\n",
      "Note: you may need to restart the kernel to use updated packages.\n"
     ]
    }
   ],
   "source": [
    "pip install openpyxl"
   ],
   "metadata": {
    "collapsed": false,
    "ExecuteTime": {
     "end_time": "2024-05-09T00:39:19.706605Z",
     "start_time": "2024-05-09T00:39:12.826634300Z"
    }
   },
   "id": "62dbef5ce64519ec",
   "execution_count": 19
  },
  {
   "cell_type": "code",
   "outputs": [
    {
     "data": {
      "text/plain": "       일반음식점   여자만궁중칼국수                         충청북도 청주시 상당구 가덕면 미천고은로 114  \\\n0      일반음식점   청남대화련가든1                   충청북도 청주시 상당구 가덕면 미천고은로 90-12, 1층   \n1      일반음식점    청남대화련가든                                                NaN   \n2      일반음식점        광동성                          충청북도 청주시 상당구 가덕면 단재로 1625   \n3      일반음식점      퇴근길호프                          충청북도 청주시 상당구 가덕면 단재로 1458   \n4      일반음식점       가덕반점                         충청북도 청주시 상당구 가덕면 병암3길 11-2   \n...      ...        ...                                                ...   \n11767  일반음식점         육육         충청북도 청주시 청원구 오창읍 오창중앙로 115-8, 104호 (동익프라자)   \n11768  일반음식점   아우내병천집순대  충청북도 청주시 청원구 오창읍 중심상업로 32-13, 110, 111, 112호 (...   \n11769  일반음식점       기찬만두             충청북도 청주시 청원구 주성로118번길 29-2, 102호 (율량동)   \n11770  일반음식점  우암고향왕족발보쌈                충청북도 청주시 청원구 직지대로832번길 21, 1층 (우암동)   \n11771  일반음식점    미스문 컴패니                        충청북도 청주시 청원구 내수읍 충청대로 412-5   \n\n            충청북도 청주시 상당구 가덕면 국전리 226   043 -292 -4566     한식  \n0      충청북도 청주시 상당구 가덕면 국전리 233-1 1층   043 -298 -4500     한식  \n1      충청북도 청주시 상당구 가덕면 국전리 233-1 2층   043 -298 -4500     한식  \n2         충청북도 청주시 상당구 가덕면 금거리 161-1    043- 298-3995     한식  \n3         충청북도 청주시 상당구 가덕면 병암리 118-5    043- 254-8583  패스트푸드  \n4         충청북도 청주시 상당구 가덕면 병암리 137-9    043- 254-5271    중국식  \n...                               ...             ...    ...  \n11767                             NaN             NaN     한식  \n11768                             NaN             NaN     한식  \n11769                             NaN             NaN  호프/통닭  \n11770                             NaN             NaN     한식  \n11771                             NaN             NaN     한식  \n\n[11772 rows x 6 columns]",
      "text/html": "<div>\n<style scoped>\n    .dataframe tbody tr th:only-of-type {\n        vertical-align: middle;\n    }\n\n    .dataframe tbody tr th {\n        vertical-align: top;\n    }\n\n    .dataframe thead th {\n        text-align: right;\n    }\n</style>\n<table border=\"1\" class=\"dataframe\">\n  <thead>\n    <tr style=\"text-align: right;\">\n      <th></th>\n      <th>일반음식점</th>\n      <th>여자만궁중칼국수</th>\n      <th>충청북도 청주시 상당구 가덕면 미천고은로 114</th>\n      <th>충청북도 청주시 상당구 가덕면 국전리 226</th>\n      <th>043 -292 -4566</th>\n      <th>한식</th>\n    </tr>\n  </thead>\n  <tbody>\n    <tr>\n      <th>0</th>\n      <td>일반음식점</td>\n      <td>청남대화련가든1</td>\n      <td>충청북도 청주시 상당구 가덕면 미천고은로 90-12, 1층</td>\n      <td>충청북도 청주시 상당구 가덕면 국전리 233-1 1층</td>\n      <td>043 -298 -4500</td>\n      <td>한식</td>\n    </tr>\n    <tr>\n      <th>1</th>\n      <td>일반음식점</td>\n      <td>청남대화련가든</td>\n      <td>NaN</td>\n      <td>충청북도 청주시 상당구 가덕면 국전리 233-1 2층</td>\n      <td>043 -298 -4500</td>\n      <td>한식</td>\n    </tr>\n    <tr>\n      <th>2</th>\n      <td>일반음식점</td>\n      <td>광동성</td>\n      <td>충청북도 청주시 상당구 가덕면 단재로 1625</td>\n      <td>충청북도 청주시 상당구 가덕면 금거리 161-1</td>\n      <td>043- 298-3995</td>\n      <td>한식</td>\n    </tr>\n    <tr>\n      <th>3</th>\n      <td>일반음식점</td>\n      <td>퇴근길호프</td>\n      <td>충청북도 청주시 상당구 가덕면 단재로 1458</td>\n      <td>충청북도 청주시 상당구 가덕면 병암리 118-5</td>\n      <td>043- 254-8583</td>\n      <td>패스트푸드</td>\n    </tr>\n    <tr>\n      <th>4</th>\n      <td>일반음식점</td>\n      <td>가덕반점</td>\n      <td>충청북도 청주시 상당구 가덕면 병암3길 11-2</td>\n      <td>충청북도 청주시 상당구 가덕면 병암리 137-9</td>\n      <td>043- 254-5271</td>\n      <td>중국식</td>\n    </tr>\n    <tr>\n      <th>...</th>\n      <td>...</td>\n      <td>...</td>\n      <td>...</td>\n      <td>...</td>\n      <td>...</td>\n      <td>...</td>\n    </tr>\n    <tr>\n      <th>11767</th>\n      <td>일반음식점</td>\n      <td>육육</td>\n      <td>충청북도 청주시 청원구 오창읍 오창중앙로 115-8, 104호 (동익프라자)</td>\n      <td>NaN</td>\n      <td>NaN</td>\n      <td>한식</td>\n    </tr>\n    <tr>\n      <th>11768</th>\n      <td>일반음식점</td>\n      <td>아우내병천집순대</td>\n      <td>충청북도 청주시 청원구 오창읍 중심상업로 32-13, 110, 111, 112호 (...</td>\n      <td>NaN</td>\n      <td>NaN</td>\n      <td>한식</td>\n    </tr>\n    <tr>\n      <th>11769</th>\n      <td>일반음식점</td>\n      <td>기찬만두</td>\n      <td>충청북도 청주시 청원구 주성로118번길 29-2, 102호 (율량동)</td>\n      <td>NaN</td>\n      <td>NaN</td>\n      <td>호프/통닭</td>\n    </tr>\n    <tr>\n      <th>11770</th>\n      <td>일반음식점</td>\n      <td>우암고향왕족발보쌈</td>\n      <td>충청북도 청주시 청원구 직지대로832번길 21, 1층 (우암동)</td>\n      <td>NaN</td>\n      <td>NaN</td>\n      <td>한식</td>\n    </tr>\n    <tr>\n      <th>11771</th>\n      <td>일반음식점</td>\n      <td>미스문 컴패니</td>\n      <td>충청북도 청주시 청원구 내수읍 충청대로 412-5</td>\n      <td>NaN</td>\n      <td>NaN</td>\n      <td>한식</td>\n    </tr>\n  </tbody>\n</table>\n<p>11772 rows × 6 columns</p>\n</div>"
     },
     "execution_count": 82,
     "metadata": {},
     "output_type": "execute_result"
    }
   ],
   "source": [
    "import pandas as pd\n",
    "data_url = 'C:/work/machineRunning/data_1.csv'\n",
    "try:\n",
    "    df = pd.read_csv(\n",
    "        data_url,\n",
    "        header=1,  # 파일에 열 이름이 없다고 가정\n",
    "        # names=['A', 'B', 'C', 'D', 'E', 'F'],  # 열 이름 지정\n",
    "        quotechar='\"',  # 큰따옴표로 묶인 필드 처리\n",
    "        sep=',',  # 쉼표로 구분\n",
    "        # engine='python',  # C 엔진에서 문제 발생 시 파이썬 엔진 사용\n",
    "        encoding='cp949'\n",
    "        )\n",
    "except Exception as e:\n",
    "    print(\"파일 읽기 중 오류 발생:\", e)\n",
    "df"
   ],
   "metadata": {
    "collapsed": false,
    "ExecuteTime": {
     "end_time": "2024-05-09T06:38:09.782614Z",
     "start_time": "2024-05-09T06:38:09.696001300Z"
    }
   },
   "id": "d6893bd44a7e0f67",
   "execution_count": 82
  },
  {
   "cell_type": "code",
   "outputs": [],
   "source": [
    "import pandas as pd\n",
    "\n",
    "# CSV 파일 경로\n",
    "csv_file_path = 'C:/work/machineRunning/data_1.csv'\n",
    "\n",
    "# CSV 파일 읽기\n",
    "df = pd.read_csv(csv_file_path, encoding = 'cp949')\n",
    "\n",
    "# Excel 파일 경로\n",
    "excel_file_path = 'C:/work/machineRunning/data_1.xlsx'\n",
    "\n",
    "# DataFrame을 Excel 파일로 저장\n",
    "df.to_excel(excel_file_path, index=False)  # index=False는 DataFrame의 인덱스를 파일에 포함하지 않음\n"
   ],
   "metadata": {
    "collapsed": false,
    "ExecuteTime": {
     "end_time": "2024-05-09T01:00:51.666010300Z",
     "start_time": "2024-05-09T01:00:45.758364200Z"
    }
   },
   "id": "c5c69fc7e0bc2d59",
   "execution_count": 17
  },
  {
   "cell_type": "code",
   "outputs": [
    {
     "data": {
      "text/plain": "     업종명       업소명                          소재지(도로명)  \\\n0  일반음식점  여자만궁중칼국수        충청북도 청주시 상당구 가덕면 미천고은로 114   \n1  일반음식점  청남대화련가든1  충청북도 청주시 상당구 가덕면 미천고은로 90-12, 1층   \n2  일반음식점   청남대화련가든                               NaN   \n3  일반음식점       광동성         충청북도 청주시 상당구 가덕면 단재로 1625   \n4  일반음식점     퇴근길호프         충청북도 청주시 상당구 가덕면 단재로 1458   \n\n                          소재지(지번)           소재지전화    업태명  \n0       충청북도 청주시 상당구 가덕면 국전리 226   043 -292 -4566     한식  \n1  충청북도 청주시 상당구 가덕면 국전리 233-1 1층   043 -298 -4500     한식  \n2  충청북도 청주시 상당구 가덕면 국전리 233-1 2층   043 -298 -4500     한식  \n3     충청북도 청주시 상당구 가덕면 금거리 161-1    043- 298-3995     한식  \n4     충청북도 청주시 상당구 가덕면 병암리 118-5    043- 254-8583  패스트푸드  ",
      "text/html": "<div>\n<style scoped>\n    .dataframe tbody tr th:only-of-type {\n        vertical-align: middle;\n    }\n\n    .dataframe tbody tr th {\n        vertical-align: top;\n    }\n\n    .dataframe thead th {\n        text-align: right;\n    }\n</style>\n<table border=\"1\" class=\"dataframe\">\n  <thead>\n    <tr style=\"text-align: right;\">\n      <th></th>\n      <th>업종명</th>\n      <th>업소명</th>\n      <th>소재지(도로명)</th>\n      <th>소재지(지번)</th>\n      <th>소재지전화</th>\n      <th>업태명</th>\n    </tr>\n  </thead>\n  <tbody>\n    <tr>\n      <th>0</th>\n      <td>일반음식점</td>\n      <td>여자만궁중칼국수</td>\n      <td>충청북도 청주시 상당구 가덕면 미천고은로 114</td>\n      <td>충청북도 청주시 상당구 가덕면 국전리 226</td>\n      <td>043 -292 -4566</td>\n      <td>한식</td>\n    </tr>\n    <tr>\n      <th>1</th>\n      <td>일반음식점</td>\n      <td>청남대화련가든1</td>\n      <td>충청북도 청주시 상당구 가덕면 미천고은로 90-12, 1층</td>\n      <td>충청북도 청주시 상당구 가덕면 국전리 233-1 1층</td>\n      <td>043 -298 -4500</td>\n      <td>한식</td>\n    </tr>\n    <tr>\n      <th>2</th>\n      <td>일반음식점</td>\n      <td>청남대화련가든</td>\n      <td>NaN</td>\n      <td>충청북도 청주시 상당구 가덕면 국전리 233-1 2층</td>\n      <td>043 -298 -4500</td>\n      <td>한식</td>\n    </tr>\n    <tr>\n      <th>3</th>\n      <td>일반음식점</td>\n      <td>광동성</td>\n      <td>충청북도 청주시 상당구 가덕면 단재로 1625</td>\n      <td>충청북도 청주시 상당구 가덕면 금거리 161-1</td>\n      <td>043- 298-3995</td>\n      <td>한식</td>\n    </tr>\n    <tr>\n      <th>4</th>\n      <td>일반음식점</td>\n      <td>퇴근길호프</td>\n      <td>충청북도 청주시 상당구 가덕면 단재로 1458</td>\n      <td>충청북도 청주시 상당구 가덕면 병암리 118-5</td>\n      <td>043- 254-8583</td>\n      <td>패스트푸드</td>\n    </tr>\n  </tbody>\n</table>\n</div>"
     },
     "execution_count": 25,
     "metadata": {},
     "output_type": "execute_result"
    }
   ],
   "source": [
    "import pandas as pd \n",
    "import numpy as np \n",
    "df = pd.read_excel (\"C:/work/machineRunning/data_1.xlsx\")\n",
    "df.head(5)"
   ],
   "metadata": {
    "collapsed": false,
    "ExecuteTime": {
     "end_time": "2024-05-09T01:02:35.992380900Z",
     "start_time": "2024-05-09T01:02:30.439328Z"
    }
   },
   "id": "cc9a37adf08095d4",
   "execution_count": 25
  },
  {
   "cell_type": "code",
   "outputs": [
    {
     "data": {
      "text/plain": "     업종명       업소명 업태명\n0  일반음식점  여자만궁중칼국수  한식\n1  일반음식점  청남대화련가든1  한식\n2  일반음식점   청남대화련가든  한식",
      "text/html": "<div>\n<style scoped>\n    .dataframe tbody tr th:only-of-type {\n        vertical-align: middle;\n    }\n\n    .dataframe tbody tr th {\n        vertical-align: top;\n    }\n\n    .dataframe thead th {\n        text-align: right;\n    }\n</style>\n<table border=\"1\" class=\"dataframe\">\n  <thead>\n    <tr style=\"text-align: right;\">\n      <th></th>\n      <th>업종명</th>\n      <th>업소명</th>\n      <th>업태명</th>\n    </tr>\n  </thead>\n  <tbody>\n    <tr>\n      <th>0</th>\n      <td>일반음식점</td>\n      <td>여자만궁중칼국수</td>\n      <td>한식</td>\n    </tr>\n    <tr>\n      <th>1</th>\n      <td>일반음식점</td>\n      <td>청남대화련가든1</td>\n      <td>한식</td>\n    </tr>\n    <tr>\n      <th>2</th>\n      <td>일반음식점</td>\n      <td>청남대화련가든</td>\n      <td>한식</td>\n    </tr>\n  </tbody>\n</table>\n</div>"
     },
     "execution_count": 26,
     "metadata": {},
     "output_type": "execute_result"
    }
   ],
   "source": [
    "## 데이터 추출 \n",
    "df[[\"업종명\",\"업소명\",\"업태명\"]].head(3)"
   ],
   "metadata": {
    "collapsed": false,
    "ExecuteTime": {
     "end_time": "2024-05-09T01:03:37.011289Z",
     "start_time": "2024-05-09T01:03:36.961357Z"
    }
   },
   "id": "262769da7966587e",
   "execution_count": 26
  },
  {
   "cell_type": "code",
   "outputs": [
    {
     "data": {
      "text/plain": "     업종명       업소명                          소재지(도로명)  \\\n0  일반음식점  여자만궁중칼국수        충청북도 청주시 상당구 가덕면 미천고은로 114   \n1  일반음식점  청남대화련가든1  충청북도 청주시 상당구 가덕면 미천고은로 90-12, 1층   \n2  일반음식점   청남대화련가든                               NaN   \n\n                          소재지(지번)           소재지전화 업태명  \n0       충청북도 청주시 상당구 가덕면 국전리 226   043 -292 -4566  한식  \n1  충청북도 청주시 상당구 가덕면 국전리 233-1 1층   043 -298 -4500  한식  \n2  충청북도 청주시 상당구 가덕면 국전리 233-1 2층   043 -298 -4500  한식  ",
      "text/html": "<div>\n<style scoped>\n    .dataframe tbody tr th:only-of-type {\n        vertical-align: middle;\n    }\n\n    .dataframe tbody tr th {\n        vertical-align: top;\n    }\n\n    .dataframe thead th {\n        text-align: right;\n    }\n</style>\n<table border=\"1\" class=\"dataframe\">\n  <thead>\n    <tr style=\"text-align: right;\">\n      <th></th>\n      <th>업종명</th>\n      <th>업소명</th>\n      <th>소재지(도로명)</th>\n      <th>소재지(지번)</th>\n      <th>소재지전화</th>\n      <th>업태명</th>\n    </tr>\n  </thead>\n  <tbody>\n    <tr>\n      <th>0</th>\n      <td>일반음식점</td>\n      <td>여자만궁중칼국수</td>\n      <td>충청북도 청주시 상당구 가덕면 미천고은로 114</td>\n      <td>충청북도 청주시 상당구 가덕면 국전리 226</td>\n      <td>043 -292 -4566</td>\n      <td>한식</td>\n    </tr>\n    <tr>\n      <th>1</th>\n      <td>일반음식점</td>\n      <td>청남대화련가든1</td>\n      <td>충청북도 청주시 상당구 가덕면 미천고은로 90-12, 1층</td>\n      <td>충청북도 청주시 상당구 가덕면 국전리 233-1 1층</td>\n      <td>043 -298 -4500</td>\n      <td>한식</td>\n    </tr>\n    <tr>\n      <th>2</th>\n      <td>일반음식점</td>\n      <td>청남대화련가든</td>\n      <td>NaN</td>\n      <td>충청북도 청주시 상당구 가덕면 국전리 233-1 2층</td>\n      <td>043 -298 -4500</td>\n      <td>한식</td>\n    </tr>\n  </tbody>\n</table>\n</div>"
     },
     "execution_count": 29,
     "metadata": {},
     "output_type": "execute_result"
    }
   ],
   "source": [
    "df.head(3).T ## 전치 "
   ],
   "metadata": {
    "collapsed": false,
    "ExecuteTime": {
     "end_time": "2024-05-09T05:19:16.039871300Z",
     "start_time": "2024-05-09T05:19:16.015298800Z"
    }
   },
   "id": "31b836a0d2a2f4f3",
   "execution_count": 29
  },
  {
   "cell_type": "code",
   "outputs": [
    {
     "data": {
      "text/plain": "     업종명       업소명                          소재지(도로명)  \\\n0  일반음식점  여자만궁중칼국수        충청북도 청주시 상당구 가덕면 미천고은로 114   \n1  일반음식점  청남대화련가든1  충청북도 청주시 상당구 가덕면 미천고은로 90-12, 1층   \n2  일반음식점   청남대화련가든                               NaN   \n3  일반음식점       광동성         충청북도 청주시 상당구 가덕면 단재로 1625   \n4  일반음식점     퇴근길호프         충청북도 청주시 상당구 가덕면 단재로 1458   \n\n                          소재지(지번)           소재지전화    업태명  \n0       충청북도 청주시 상당구 가덕면 국전리 226   043 -292 -4566     한식  \n1  충청북도 청주시 상당구 가덕면 국전리 233-1 1층   043 -298 -4500     한식  \n2  충청북도 청주시 상당구 가덕면 국전리 233-1 2층   043 -298 -4500     한식  \n3     충청북도 청주시 상당구 가덕면 금거리 161-1    043- 298-3995     한식  \n4     충청북도 청주시 상당구 가덕면 병암리 118-5    043- 254-8583  패스트푸드  ",
      "text/html": "<div>\n<style scoped>\n    .dataframe tbody tr th:only-of-type {\n        vertical-align: middle;\n    }\n\n    .dataframe tbody tr th {\n        vertical-align: top;\n    }\n\n    .dataframe thead th {\n        text-align: right;\n    }\n</style>\n<table border=\"1\" class=\"dataframe\">\n  <thead>\n    <tr style=\"text-align: right;\">\n      <th></th>\n      <th>업종명</th>\n      <th>업소명</th>\n      <th>소재지(도로명)</th>\n      <th>소재지(지번)</th>\n      <th>소재지전화</th>\n      <th>업태명</th>\n    </tr>\n  </thead>\n  <tbody>\n    <tr>\n      <th>0</th>\n      <td>일반음식점</td>\n      <td>여자만궁중칼국수</td>\n      <td>충청북도 청주시 상당구 가덕면 미천고은로 114</td>\n      <td>충청북도 청주시 상당구 가덕면 국전리 226</td>\n      <td>043 -292 -4566</td>\n      <td>한식</td>\n    </tr>\n    <tr>\n      <th>1</th>\n      <td>일반음식점</td>\n      <td>청남대화련가든1</td>\n      <td>충청북도 청주시 상당구 가덕면 미천고은로 90-12, 1층</td>\n      <td>충청북도 청주시 상당구 가덕면 국전리 233-1 1층</td>\n      <td>043 -298 -4500</td>\n      <td>한식</td>\n    </tr>\n    <tr>\n      <th>2</th>\n      <td>일반음식점</td>\n      <td>청남대화련가든</td>\n      <td>NaN</td>\n      <td>충청북도 청주시 상당구 가덕면 국전리 233-1 2층</td>\n      <td>043 -298 -4500</td>\n      <td>한식</td>\n    </tr>\n    <tr>\n      <th>3</th>\n      <td>일반음식점</td>\n      <td>광동성</td>\n      <td>충청북도 청주시 상당구 가덕면 단재로 1625</td>\n      <td>충청북도 청주시 상당구 가덕면 금거리 161-1</td>\n      <td>043- 298-3995</td>\n      <td>한식</td>\n    </tr>\n    <tr>\n      <th>4</th>\n      <td>일반음식점</td>\n      <td>퇴근길호프</td>\n      <td>충청북도 청주시 상당구 가덕면 단재로 1458</td>\n      <td>충청북도 청주시 상당구 가덕면 병암리 118-5</td>\n      <td>043- 254-8583</td>\n      <td>패스트푸드</td>\n    </tr>\n  </tbody>\n</table>\n</div>"
     },
     "execution_count": 31,
     "metadata": {},
     "output_type": "execute_result"
    }
   ],
   "source": [
    "df[:5]\n"
   ],
   "metadata": {
    "collapsed": false,
    "ExecuteTime": {
     "end_time": "2024-05-09T05:19:28.979789200Z",
     "start_time": "2024-05-09T05:19:28.900818600Z"
    }
   },
   "id": "70b19aaed3e938fb",
   "execution_count": 31
  },
  {
   "cell_type": "code",
   "outputs": [
    {
     "data": {
      "text/plain": "            업종명                          소재지(도로명)  \\\n업소명                                                 \n여자만궁중칼국수  일반음식점        충청북도 청주시 상당구 가덕면 미천고은로 114   \n청남대화련가든1  일반음식점  충청북도 청주시 상당구 가덕면 미천고은로 90-12, 1층   \n청남대화련가든   일반음식점                               NaN   \n광동성       일반음식점         충청북도 청주시 상당구 가덕면 단재로 1625   \n\n                                 소재지(지번)           소재지전화 업태명  \n업소명                                                           \n여자만궁중칼국수       충청북도 청주시 상당구 가덕면 국전리 226   043 -292 -4566  한식  \n청남대화련가든1  충청북도 청주시 상당구 가덕면 국전리 233-1 1층   043 -298 -4500  한식  \n청남대화련가든   충청북도 청주시 상당구 가덕면 국전리 233-1 2층   043 -298 -4500  한식  \n광동성          충청북도 청주시 상당구 가덕면 금거리 161-1    043- 298-3995  한식  ",
      "text/html": "<div>\n<style scoped>\n    .dataframe tbody tr th:only-of-type {\n        vertical-align: middle;\n    }\n\n    .dataframe tbody tr th {\n        vertical-align: top;\n    }\n\n    .dataframe thead th {\n        text-align: right;\n    }\n</style>\n<table border=\"1\" class=\"dataframe\">\n  <thead>\n    <tr style=\"text-align: right;\">\n      <th></th>\n      <th>업종명</th>\n      <th>소재지(도로명)</th>\n      <th>소재지(지번)</th>\n      <th>소재지전화</th>\n      <th>업태명</th>\n    </tr>\n    <tr>\n      <th>업소명</th>\n      <th></th>\n      <th></th>\n      <th></th>\n      <th></th>\n      <th></th>\n    </tr>\n  </thead>\n  <tbody>\n    <tr>\n      <th>여자만궁중칼국수</th>\n      <td>일반음식점</td>\n      <td>충청북도 청주시 상당구 가덕면 미천고은로 114</td>\n      <td>충청북도 청주시 상당구 가덕면 국전리 226</td>\n      <td>043 -292 -4566</td>\n      <td>한식</td>\n    </tr>\n    <tr>\n      <th>청남대화련가든1</th>\n      <td>일반음식점</td>\n      <td>충청북도 청주시 상당구 가덕면 미천고은로 90-12, 1층</td>\n      <td>충청북도 청주시 상당구 가덕면 국전리 233-1 1층</td>\n      <td>043 -298 -4500</td>\n      <td>한식</td>\n    </tr>\n    <tr>\n      <th>청남대화련가든</th>\n      <td>일반음식점</td>\n      <td>NaN</td>\n      <td>충청북도 청주시 상당구 가덕면 국전리 233-1 2층</td>\n      <td>043 -298 -4500</td>\n      <td>한식</td>\n    </tr>\n    <tr>\n      <th>광동성</th>\n      <td>일반음식점</td>\n      <td>충청북도 청주시 상당구 가덕면 단재로 1625</td>\n      <td>충청북도 청주시 상당구 가덕면 금거리 161-1</td>\n      <td>043- 298-3995</td>\n      <td>한식</td>\n    </tr>\n  </tbody>\n</table>\n</div>"
     },
     "execution_count": 33,
     "metadata": {},
     "output_type": "execute_result"
    }
   ],
   "source": [
    "df.index = df[\"업소명\"] # 인덱스를 업소명으로 할당\n",
    "del df[\"업소명\"] # 데이터로 쓰이던 업소명 은 삭제\n",
    "df.head(4)"
   ],
   "metadata": {
    "collapsed": false,
    "ExecuteTime": {
     "end_time": "2024-05-09T05:20:48.645931500Z",
     "start_time": "2024-05-09T05:20:48.615544300Z"
    }
   },
   "id": "927aa28906822428",
   "execution_count": 33
  },
  {
   "cell_type": "code",
   "outputs": [
    {
     "data": {
      "text/plain": "                        소재지(도로명)    업태명\n업소명                                    \n광동성    충청북도 청주시 상당구 가덕면 단재로 1625     한식\n퇴근길호프  충청북도 청주시 상당구 가덕면 단재로 1458  패스트푸드",
      "text/html": "<div>\n<style scoped>\n    .dataframe tbody tr th:only-of-type {\n        vertical-align: middle;\n    }\n\n    .dataframe tbody tr th {\n        vertical-align: top;\n    }\n\n    .dataframe thead th {\n        text-align: right;\n    }\n</style>\n<table border=\"1\" class=\"dataframe\">\n  <thead>\n    <tr style=\"text-align: right;\">\n      <th></th>\n      <th>소재지(도로명)</th>\n      <th>업태명</th>\n    </tr>\n    <tr>\n      <th>업소명</th>\n      <th></th>\n      <th></th>\n    </tr>\n  </thead>\n  <tbody>\n    <tr>\n      <th>광동성</th>\n      <td>충청북도 청주시 상당구 가덕면 단재로 1625</td>\n      <td>한식</td>\n    </tr>\n    <tr>\n      <th>퇴근길호프</th>\n      <td>충청북도 청주시 상당구 가덕면 단재로 1458</td>\n      <td>패스트푸드</td>\n    </tr>\n  </tbody>\n</table>\n</div>"
     },
     "execution_count": 34,
     "metadata": {},
     "output_type": "execute_result"
    }
   ],
   "source": [
    "df.loc[[\"광동성\",\"퇴근길호프\"],[\"소재지(도로명)\",\"업태명\"]]"
   ],
   "metadata": {
    "collapsed": false,
    "ExecuteTime": {
     "end_time": "2024-05-09T05:22:32.323763500Z",
     "start_time": "2024-05-09T05:22:32.221050900Z"
    }
   },
   "id": "f9b96f3f0808394d",
   "execution_count": 34
  },
  {
   "cell_type": "code",
   "outputs": [
    {
     "data": {
      "text/plain": "                  업종명                           소재지(도로명)  \\\n업소명                                                        \n여자만궁중칼국수        일반음식점         충청북도 청주시 상당구 가덕면 미천고은로 114   \n청남대화련가든1        일반음식점   충청북도 청주시 상당구 가덕면 미천고은로 90-12, 1층   \n청남대화련가든         일반음식점                                NaN   \n광동성             일반음식점          충청북도 청주시 상당구 가덕면 단재로 1625   \n퇴근길호프           일반음식점          충청북도 청주시 상당구 가덕면 단재로 1458   \n가덕반점            일반음식점         충청북도 청주시 상당구 가덕면 병암3길 11-2   \n남가네 설악추어탕(가덕점)  일반음식점  충청북도 청주시 상당구 가덕면 단재로 1484, 주3동 1층   \n늘찬굴림만두          일반음식점      충청북도 청주시 상당구 가덕면 단재로 1410, 1층   \n강촌곤드레           일반음식점      충청북도 청주시 상당구 가덕면 단재로 1414, 1층   \n너나드리            일반음식점          충청북도 청주시 상당구 가덕면 단재로 1396   \n\n                                                       소재지(지번)           소재지전화  \n업소명                                                                             \n여자만궁중칼국수                             충청북도 청주시 상당구 가덕면 국전리 226   043 -292 -4566  \n청남대화련가든1                        충청북도 청주시 상당구 가덕면 국전리 233-1 1층   043 -298 -4500  \n청남대화련가든                         충청북도 청주시 상당구 가덕면 국전리 233-1 2층   043 -298 -4500  \n광동성                                충청북도 청주시 상당구 가덕면 금거리 161-1    043- 298-3995  \n퇴근길호프                              충청북도 청주시 상당구 가덕면 병암리 118-5    043- 254-8583  \n가덕반점                               충청북도 청주시 상당구 가덕면 병암리 137-9    043- 254-5271  \n남가네 설악추어탕(가덕점)                 충청북도 청주시 상당구 가덕면 병암리 159-1 주3동              NaN  \n늘찬굴림만두                             충청북도 청주시 상당구 가덕면 병암리 238-5   043 -292 -1555  \n강촌곤드레           충청북도 청주시 상당구 가덕면 병암리 238-9 외1필지(238-2)(주2,주4)   043 -287 -7724  \n너나드리                       충청북도 청주시 상당구 가덕면 병암리 268-2 268-2,5   043 -292 -2223  ",
      "text/html": "<div>\n<style scoped>\n    .dataframe tbody tr th:only-of-type {\n        vertical-align: middle;\n    }\n\n    .dataframe tbody tr th {\n        vertical-align: top;\n    }\n\n    .dataframe thead th {\n        text-align: right;\n    }\n</style>\n<table border=\"1\" class=\"dataframe\">\n  <thead>\n    <tr style=\"text-align: right;\">\n      <th></th>\n      <th>업종명</th>\n      <th>소재지(도로명)</th>\n      <th>소재지(지번)</th>\n      <th>소재지전화</th>\n    </tr>\n    <tr>\n      <th>업소명</th>\n      <th></th>\n      <th></th>\n      <th></th>\n      <th></th>\n    </tr>\n  </thead>\n  <tbody>\n    <tr>\n      <th>여자만궁중칼국수</th>\n      <td>일반음식점</td>\n      <td>충청북도 청주시 상당구 가덕면 미천고은로 114</td>\n      <td>충청북도 청주시 상당구 가덕면 국전리 226</td>\n      <td>043 -292 -4566</td>\n    </tr>\n    <tr>\n      <th>청남대화련가든1</th>\n      <td>일반음식점</td>\n      <td>충청북도 청주시 상당구 가덕면 미천고은로 90-12, 1층</td>\n      <td>충청북도 청주시 상당구 가덕면 국전리 233-1 1층</td>\n      <td>043 -298 -4500</td>\n    </tr>\n    <tr>\n      <th>청남대화련가든</th>\n      <td>일반음식점</td>\n      <td>NaN</td>\n      <td>충청북도 청주시 상당구 가덕면 국전리 233-1 2층</td>\n      <td>043 -298 -4500</td>\n    </tr>\n    <tr>\n      <th>광동성</th>\n      <td>일반음식점</td>\n      <td>충청북도 청주시 상당구 가덕면 단재로 1625</td>\n      <td>충청북도 청주시 상당구 가덕면 금거리 161-1</td>\n      <td>043- 298-3995</td>\n    </tr>\n    <tr>\n      <th>퇴근길호프</th>\n      <td>일반음식점</td>\n      <td>충청북도 청주시 상당구 가덕면 단재로 1458</td>\n      <td>충청북도 청주시 상당구 가덕면 병암리 118-5</td>\n      <td>043- 254-8583</td>\n    </tr>\n    <tr>\n      <th>가덕반점</th>\n      <td>일반음식점</td>\n      <td>충청북도 청주시 상당구 가덕면 병암3길 11-2</td>\n      <td>충청북도 청주시 상당구 가덕면 병암리 137-9</td>\n      <td>043- 254-5271</td>\n    </tr>\n    <tr>\n      <th>남가네 설악추어탕(가덕점)</th>\n      <td>일반음식점</td>\n      <td>충청북도 청주시 상당구 가덕면 단재로 1484, 주3동 1층</td>\n      <td>충청북도 청주시 상당구 가덕면 병암리 159-1 주3동</td>\n      <td>NaN</td>\n    </tr>\n    <tr>\n      <th>늘찬굴림만두</th>\n      <td>일반음식점</td>\n      <td>충청북도 청주시 상당구 가덕면 단재로 1410, 1층</td>\n      <td>충청북도 청주시 상당구 가덕면 병암리 238-5</td>\n      <td>043 -292 -1555</td>\n    </tr>\n    <tr>\n      <th>강촌곤드레</th>\n      <td>일반음식점</td>\n      <td>충청북도 청주시 상당구 가덕면 단재로 1414, 1층</td>\n      <td>충청북도 청주시 상당구 가덕면 병암리 238-9 외1필지(238-2)(주2,주4)</td>\n      <td>043 -287 -7724</td>\n    </tr>\n    <tr>\n      <th>너나드리</th>\n      <td>일반음식점</td>\n      <td>충청북도 청주시 상당구 가덕면 단재로 1396</td>\n      <td>충청북도 청주시 상당구 가덕면 병암리 268-2 268-2,5</td>\n      <td>043 -292 -2223</td>\n    </tr>\n  </tbody>\n</table>\n</div>"
     },
     "execution_count": 35,
     "metadata": {},
     "output_type": "execute_result"
    }
   ],
   "source": [
    "df.iloc[:10, :4] #10개의 행 4개의 열 "
   ],
   "metadata": {
    "collapsed": false,
    "ExecuteTime": {
     "end_time": "2024-05-09T05:23:52.303113600Z",
     "start_time": "2024-05-09T05:23:52.240271Z"
    }
   },
   "id": "46e534ffe12ecbb0",
   "execution_count": 35
  },
  {
   "cell_type": "code",
   "outputs": [
    {
     "data": {
      "text/plain": "             업소명    업종명                                           소재지(도로명)  \\\n0       여자만궁중칼국수  일반음식점                         충청북도 청주시 상당구 가덕면 미천고은로 114   \n1       청남대화련가든1  일반음식점                   충청북도 청주시 상당구 가덕면 미천고은로 90-12, 1층   \n2        청남대화련가든  일반음식점                                                NaN   \n3            광동성  일반음식점                          충청북도 청주시 상당구 가덕면 단재로 1625   \n4          퇴근길호프  일반음식점                          충청북도 청주시 상당구 가덕면 단재로 1458   \n...          ...    ...                                                ...   \n11768         육육  일반음식점         충청북도 청주시 청원구 오창읍 오창중앙로 115-8, 104호 (동익프라자)   \n11769   아우내병천집순대  일반음식점  충청북도 청주시 청원구 오창읍 중심상업로 32-13, 110, 111, 112호 (...   \n11770       기찬만두  일반음식점             충청북도 청주시 청원구 주성로118번길 29-2, 102호 (율량동)   \n11771  우암고향왕족발보쌈  일반음식점                충청북도 청주시 청원구 직지대로832번길 21, 1층 (우암동)   \n11772    미스문 컴패니  일반음식점                        충청북도 청주시 청원구 내수읍 충청대로 412-5   \n\n                              소재지(지번)           소재지전화    업태명  \n0           충청북도 청주시 상당구 가덕면 국전리 226   043 -292 -4566     한식  \n1      충청북도 청주시 상당구 가덕면 국전리 233-1 1층   043 -298 -4500     한식  \n2      충청북도 청주시 상당구 가덕면 국전리 233-1 2층   043 -298 -4500     한식  \n3         충청북도 청주시 상당구 가덕면 금거리 161-1    043- 298-3995     한식  \n4         충청북도 청주시 상당구 가덕면 병암리 118-5    043- 254-8583  패스트푸드  \n...                               ...             ...    ...  \n11768                             NaN             NaN     한식  \n11769                             NaN             NaN     한식  \n11770                             NaN             NaN  호프/통닭  \n11771                             NaN             NaN     한식  \n11772                             NaN             NaN     한식  \n\n[11773 rows x 6 columns]",
      "text/html": "<div>\n<style scoped>\n    .dataframe tbody tr th:only-of-type {\n        vertical-align: middle;\n    }\n\n    .dataframe tbody tr th {\n        vertical-align: top;\n    }\n\n    .dataframe thead th {\n        text-align: right;\n    }\n</style>\n<table border=\"1\" class=\"dataframe\">\n  <thead>\n    <tr style=\"text-align: right;\">\n      <th></th>\n      <th>업소명</th>\n      <th>업종명</th>\n      <th>소재지(도로명)</th>\n      <th>소재지(지번)</th>\n      <th>소재지전화</th>\n      <th>업태명</th>\n    </tr>\n  </thead>\n  <tbody>\n    <tr>\n      <th>0</th>\n      <td>여자만궁중칼국수</td>\n      <td>일반음식점</td>\n      <td>충청북도 청주시 상당구 가덕면 미천고은로 114</td>\n      <td>충청북도 청주시 상당구 가덕면 국전리 226</td>\n      <td>043 -292 -4566</td>\n      <td>한식</td>\n    </tr>\n    <tr>\n      <th>1</th>\n      <td>청남대화련가든1</td>\n      <td>일반음식점</td>\n      <td>충청북도 청주시 상당구 가덕면 미천고은로 90-12, 1층</td>\n      <td>충청북도 청주시 상당구 가덕면 국전리 233-1 1층</td>\n      <td>043 -298 -4500</td>\n      <td>한식</td>\n    </tr>\n    <tr>\n      <th>2</th>\n      <td>청남대화련가든</td>\n      <td>일반음식점</td>\n      <td>NaN</td>\n      <td>충청북도 청주시 상당구 가덕면 국전리 233-1 2층</td>\n      <td>043 -298 -4500</td>\n      <td>한식</td>\n    </tr>\n    <tr>\n      <th>3</th>\n      <td>광동성</td>\n      <td>일반음식점</td>\n      <td>충청북도 청주시 상당구 가덕면 단재로 1625</td>\n      <td>충청북도 청주시 상당구 가덕면 금거리 161-1</td>\n      <td>043- 298-3995</td>\n      <td>한식</td>\n    </tr>\n    <tr>\n      <th>4</th>\n      <td>퇴근길호프</td>\n      <td>일반음식점</td>\n      <td>충청북도 청주시 상당구 가덕면 단재로 1458</td>\n      <td>충청북도 청주시 상당구 가덕면 병암리 118-5</td>\n      <td>043- 254-8583</td>\n      <td>패스트푸드</td>\n    </tr>\n    <tr>\n      <th>...</th>\n      <td>...</td>\n      <td>...</td>\n      <td>...</td>\n      <td>...</td>\n      <td>...</td>\n      <td>...</td>\n    </tr>\n    <tr>\n      <th>11768</th>\n      <td>육육</td>\n      <td>일반음식점</td>\n      <td>충청북도 청주시 청원구 오창읍 오창중앙로 115-8, 104호 (동익프라자)</td>\n      <td>NaN</td>\n      <td>NaN</td>\n      <td>한식</td>\n    </tr>\n    <tr>\n      <th>11769</th>\n      <td>아우내병천집순대</td>\n      <td>일반음식점</td>\n      <td>충청북도 청주시 청원구 오창읍 중심상업로 32-13, 110, 111, 112호 (...</td>\n      <td>NaN</td>\n      <td>NaN</td>\n      <td>한식</td>\n    </tr>\n    <tr>\n      <th>11770</th>\n      <td>기찬만두</td>\n      <td>일반음식점</td>\n      <td>충청북도 청주시 청원구 주성로118번길 29-2, 102호 (율량동)</td>\n      <td>NaN</td>\n      <td>NaN</td>\n      <td>호프/통닭</td>\n    </tr>\n    <tr>\n      <th>11771</th>\n      <td>우암고향왕족발보쌈</td>\n      <td>일반음식점</td>\n      <td>충청북도 청주시 청원구 직지대로832번길 21, 1층 (우암동)</td>\n      <td>NaN</td>\n      <td>NaN</td>\n      <td>한식</td>\n    </tr>\n    <tr>\n      <th>11772</th>\n      <td>미스문 컴패니</td>\n      <td>일반음식점</td>\n      <td>충청북도 청주시 청원구 내수읍 충청대로 412-5</td>\n      <td>NaN</td>\n      <td>NaN</td>\n      <td>한식</td>\n    </tr>\n  </tbody>\n</table>\n<p>11773 rows × 6 columns</p>\n</div>"
     },
     "execution_count": 37,
     "metadata": {},
     "output_type": "execute_result"
    }
   ],
   "source": [
    "df_new = df.reset_index() ## 인덱스 리셋 \n",
    "df_new"
   ],
   "metadata": {
    "collapsed": false,
    "ExecuteTime": {
     "end_time": "2024-05-09T05:24:57.143450600Z",
     "start_time": "2024-05-09T05:24:57.107019300Z"
    }
   },
   "id": "6b10779338f45786",
   "execution_count": 37
  },
  {
   "cell_type": "code",
   "outputs": [
    {
     "data": {
      "text/plain": "        업소명    업종명                    소재지(도로명)  \\\n0  여자만궁중칼국수  일반음식점  충청북도 청주시 상당구 가덕면 미천고은로 114   \n2   청남대화련가든  일반음식점                         NaN   \n3       광동성  일반음식점   충청북도 청주시 상당구 가덕면 단재로 1625   \n4     퇴근길호프  일반음식점   충청북도 청주시 상당구 가덕면 단재로 1458   \n5      가덕반점  일반음식점  충청북도 청주시 상당구 가덕면 병암3길 11-2   \n\n                          소재지(지번)           소재지전화    업태명  \n0       충청북도 청주시 상당구 가덕면 국전리 226   043 -292 -4566     한식  \n2  충청북도 청주시 상당구 가덕면 국전리 233-1 2층   043 -298 -4500     한식  \n3     충청북도 청주시 상당구 가덕면 금거리 161-1    043- 298-3995     한식  \n4     충청북도 청주시 상당구 가덕면 병암리 118-5    043- 254-8583  패스트푸드  \n5     충청북도 청주시 상당구 가덕면 병암리 137-9    043- 254-5271    중국식  ",
      "text/html": "<div>\n<style scoped>\n    .dataframe tbody tr th:only-of-type {\n        vertical-align: middle;\n    }\n\n    .dataframe tbody tr th {\n        vertical-align: top;\n    }\n\n    .dataframe thead th {\n        text-align: right;\n    }\n</style>\n<table border=\"1\" class=\"dataframe\">\n  <thead>\n    <tr style=\"text-align: right;\">\n      <th></th>\n      <th>업소명</th>\n      <th>업종명</th>\n      <th>소재지(도로명)</th>\n      <th>소재지(지번)</th>\n      <th>소재지전화</th>\n      <th>업태명</th>\n    </tr>\n  </thead>\n  <tbody>\n    <tr>\n      <th>0</th>\n      <td>여자만궁중칼국수</td>\n      <td>일반음식점</td>\n      <td>충청북도 청주시 상당구 가덕면 미천고은로 114</td>\n      <td>충청북도 청주시 상당구 가덕면 국전리 226</td>\n      <td>043 -292 -4566</td>\n      <td>한식</td>\n    </tr>\n    <tr>\n      <th>2</th>\n      <td>청남대화련가든</td>\n      <td>일반음식점</td>\n      <td>NaN</td>\n      <td>충청북도 청주시 상당구 가덕면 국전리 233-1 2층</td>\n      <td>043 -298 -4500</td>\n      <td>한식</td>\n    </tr>\n    <tr>\n      <th>3</th>\n      <td>광동성</td>\n      <td>일반음식점</td>\n      <td>충청북도 청주시 상당구 가덕면 단재로 1625</td>\n      <td>충청북도 청주시 상당구 가덕면 금거리 161-1</td>\n      <td>043- 298-3995</td>\n      <td>한식</td>\n    </tr>\n    <tr>\n      <th>4</th>\n      <td>퇴근길호프</td>\n      <td>일반음식점</td>\n      <td>충청북도 청주시 상당구 가덕면 단재로 1458</td>\n      <td>충청북도 청주시 상당구 가덕면 병암리 118-5</td>\n      <td>043- 254-8583</td>\n      <td>패스트푸드</td>\n    </tr>\n    <tr>\n      <th>5</th>\n      <td>가덕반점</td>\n      <td>일반음식점</td>\n      <td>충청북도 청주시 상당구 가덕면 병암3길 11-2</td>\n      <td>충청북도 청주시 상당구 가덕면 병암리 137-9</td>\n      <td>043- 254-5271</td>\n      <td>중국식</td>\n    </tr>\n  </tbody>\n</table>\n</div>"
     },
     "execution_count": 39,
     "metadata": {},
     "output_type": "execute_result"
    }
   ],
   "source": [
    "## drop하면 n번 행이 사라짐 -> 원본에는 영향 x \n",
    "df_new.drop(1).head() ## head() 안에 아무 값도 안 넣으면 기본값은 5개\n",
    "#df_new.drop(1,inplace= True) ## 실제 원본데이터 삭제 \n",
    "#df+new.drop(\"소재지(지번)\",axis(1)) ## 이름으로도 삭제 가능 (axis(1) = 열을 기준) "
   ],
   "metadata": {
    "collapsed": false,
    "ExecuteTime": {
     "end_time": "2024-05-09T05:43:28.479552Z",
     "start_time": "2024-05-09T05:43:28.426133900Z"
    }
   },
   "id": "216a7c7cefd8ef3c",
   "execution_count": 39
  },
  {
   "cell_type": "code",
   "outputs": [
    {
     "data": {
      "text/plain": "      Team  Rank  Year  Points\n0   Riders     1  2014     876\n1   Riders     2  2015     789\n2   Devils     2  2014     863\n3   Devils     3  2015     673\n4    Kings     3  2014     741\n5    Kings     4  2015     812\n6    Kings     1  2016     756\n7    Kings     1  2017     788\n8   Riders     2  2016     694\n9   Royals     4  2014     701\n10  Royals     1  2015     804\n11  Riders     2  2017     690",
      "text/html": "<div>\n<style scoped>\n    .dataframe tbody tr th:only-of-type {\n        vertical-align: middle;\n    }\n\n    .dataframe tbody tr th {\n        vertical-align: top;\n    }\n\n    .dataframe thead th {\n        text-align: right;\n    }\n</style>\n<table border=\"1\" class=\"dataframe\">\n  <thead>\n    <tr style=\"text-align: right;\">\n      <th></th>\n      <th>Team</th>\n      <th>Rank</th>\n      <th>Year</th>\n      <th>Points</th>\n    </tr>\n  </thead>\n  <tbody>\n    <tr>\n      <th>0</th>\n      <td>Riders</td>\n      <td>1</td>\n      <td>2014</td>\n      <td>876</td>\n    </tr>\n    <tr>\n      <th>1</th>\n      <td>Riders</td>\n      <td>2</td>\n      <td>2015</td>\n      <td>789</td>\n    </tr>\n    <tr>\n      <th>2</th>\n      <td>Devils</td>\n      <td>2</td>\n      <td>2014</td>\n      <td>863</td>\n    </tr>\n    <tr>\n      <th>3</th>\n      <td>Devils</td>\n      <td>3</td>\n      <td>2015</td>\n      <td>673</td>\n    </tr>\n    <tr>\n      <th>4</th>\n      <td>Kings</td>\n      <td>3</td>\n      <td>2014</td>\n      <td>741</td>\n    </tr>\n    <tr>\n      <th>5</th>\n      <td>Kings</td>\n      <td>4</td>\n      <td>2015</td>\n      <td>812</td>\n    </tr>\n    <tr>\n      <th>6</th>\n      <td>Kings</td>\n      <td>1</td>\n      <td>2016</td>\n      <td>756</td>\n    </tr>\n    <tr>\n      <th>7</th>\n      <td>Kings</td>\n      <td>1</td>\n      <td>2017</td>\n      <td>788</td>\n    </tr>\n    <tr>\n      <th>8</th>\n      <td>Riders</td>\n      <td>2</td>\n      <td>2016</td>\n      <td>694</td>\n    </tr>\n    <tr>\n      <th>9</th>\n      <td>Royals</td>\n      <td>4</td>\n      <td>2014</td>\n      <td>701</td>\n    </tr>\n    <tr>\n      <th>10</th>\n      <td>Royals</td>\n      <td>1</td>\n      <td>2015</td>\n      <td>804</td>\n    </tr>\n    <tr>\n      <th>11</th>\n      <td>Riders</td>\n      <td>2</td>\n      <td>2017</td>\n      <td>690</td>\n    </tr>\n  </tbody>\n</table>\n</div>"
     },
     "execution_count": 49,
     "metadata": {},
     "output_type": "execute_result"
    }
   ],
   "source": [
    "## 그룹별 집계 \n",
    "\n",
    "import pandas as pd # pandas 모듈 호출\n",
    "import numpy as np # numpy 모듈 호출\n",
    "\n",
    "ipl_data = {'Team': ['Riders', 'Riders', 'Devils', 'Devils', 'Kings', 'Kings', 'Kings', 'Kings', 'Riders', 'Royals', 'Royals', 'Riders'],\n",
    "            'Rank': [1, 2, 2, 3, 3,4 ,1 ,1,2 , 4,1,2],\n",
    "            'Year': [2014,2015,2014,2015,2014,2015,2016,2017,2016,2014,2015,2017],\n",
    "            'Points':[876,789,863,673,741,812,756,788,694,701,804,690]}\n",
    "\n",
    "df = pd.DataFrame(ipl_data) # 데이터 프레임 형태로\n",
    "df"
   ],
   "metadata": {
    "collapsed": false,
    "ExecuteTime": {
     "end_time": "2024-05-09T06:14:06.099912800Z",
     "start_time": "2024-05-09T06:14:05.896576700Z"
    }
   },
   "id": "75991ec2725dcab8",
   "execution_count": 49
  },
  {
   "cell_type": "code",
   "outputs": [
    {
     "data": {
      "text/plain": "Team\nDevils    768.00\nKings     774.25\nRiders    762.25\nRoyals    752.50\nName: Points, dtype: float64"
     },
     "execution_count": 50,
     "metadata": {},
     "output_type": "execute_result"
    }
   ],
   "source": [
    "df.groupby(\"Team\")[\"Points\"].mean() ## points 기준으로 sum 연산 (sum, count, mean) 가능"
   ],
   "metadata": {
    "collapsed": false,
    "ExecuteTime": {
     "end_time": "2024-05-09T06:14:13.369710100Z",
     "start_time": "2024-05-09T06:14:13.354173800Z"
    }
   },
   "id": "1d19b15e62a7b348",
   "execution_count": 50
  },
  {
   "cell_type": "code",
   "outputs": [
    {
     "data": {
      "text/plain": "Team    Year\nDevils  2014    863\n        2015    673\nKings   2014    741\n        2015    812\n        2016    756\n        2017    788\nRiders  2014    876\n        2015    789\n        2016    694\n        2017    690\nRoyals  2014    701\n        2015    804\nName: Points, dtype: int64"
     },
     "execution_count": 51,
     "metadata": {},
     "output_type": "execute_result"
    }
   ],
   "source": [
    "multi_groupby = df.groupby([\"Team\", \"Year\"])[\"Points\"].sum() ##df(데이터 프레임 객체)를 \"Team\",\"Year\"에 따라 그룹화 \"Points\"열은 연산의 대상\n",
    "multi_groupby"
   ],
   "metadata": {
    "collapsed": false,
    "ExecuteTime": {
     "end_time": "2024-05-09T06:14:15.742055200Z",
     "start_time": "2024-05-09T06:14:15.725142200Z"
    }
   },
   "id": "60a2abd51c12309e",
   "execution_count": 51
  },
  {
   "cell_type": "code",
   "outputs": [
    {
     "data": {
      "text/plain": "MultiIndex([('Devils', 2014),\n            ('Devils', 2015),\n            ( 'Kings', 2014),\n            ( 'Kings', 2016),\n            ( 'Kings', 2017),\n            ('Riders', 2014),\n            ('Riders', 2015),\n            ('Riders', 2016),\n            ('Riders', 2017),\n            ('Royals', 2014),\n            ('Royals', 2015),\n            ( 'kings', 2015)],\n           names=['Team', 'Year'])"
     },
     "execution_count": 46,
     "metadata": {},
     "output_type": "execute_result"
    }
   ],
   "source": [
    "multi_groupby = df.groupby([\"Team\", \"Year\"])[\"Points\"].sum() # multi_groupby 변수에는 Team,Year을 키 값으로 가지는 계층적 인덱스가 나타남 \n",
    "multi_groupby.index"
   ],
   "metadata": {
    "collapsed": false,
    "ExecuteTime": {
     "end_time": "2024-05-09T06:13:10.483719300Z",
     "start_time": "2024-05-09T06:13:10.441586800Z"
    }
   },
   "id": "462ffd77488f32e3",
   "execution_count": 46
  },
  {
   "cell_type": "code",
   "outputs": [
    {
     "data": {
      "text/plain": "Team    Year\nDevils  2014    863\n        2015    673\nKings   2014    741\n        2015    812\n        2016    756\n        2017    788\nName: Points, dtype: int64"
     },
     "execution_count": 54,
     "metadata": {},
     "output_type": "execute_result"
    }
   ],
   "source": [
    "multi_groupby[\"Devils\":\"Kings\"]"
   ],
   "metadata": {
    "collapsed": false,
    "ExecuteTime": {
     "end_time": "2024-05-09T06:15:22.770196900Z",
     "start_time": "2024-05-09T06:15:22.733934600Z"
    }
   },
   "id": "ce1e8bd05f5adb42",
   "execution_count": 54
  },
  {
   "cell_type": "code",
   "outputs": [
    {
     "data": {
      "text/plain": "Year     2014   2015   2016   2017\nTeam                              \nDevils  863.0  673.0    NaN    NaN\nKings   741.0  812.0  756.0  788.0\nRiders  876.0  789.0  694.0  690.0\nRoyals  701.0  804.0    NaN    NaN",
      "text/html": "<div>\n<style scoped>\n    .dataframe tbody tr th:only-of-type {\n        vertical-align: middle;\n    }\n\n    .dataframe tbody tr th {\n        vertical-align: top;\n    }\n\n    .dataframe thead th {\n        text-align: right;\n    }\n</style>\n<table border=\"1\" class=\"dataframe\">\n  <thead>\n    <tr style=\"text-align: right;\">\n      <th>Year</th>\n      <th>2014</th>\n      <th>2015</th>\n      <th>2016</th>\n      <th>2017</th>\n    </tr>\n    <tr>\n      <th>Team</th>\n      <th></th>\n      <th></th>\n      <th></th>\n      <th></th>\n    </tr>\n  </thead>\n  <tbody>\n    <tr>\n      <th>Devils</th>\n      <td>863.0</td>\n      <td>673.0</td>\n      <td>NaN</td>\n      <td>NaN</td>\n    </tr>\n    <tr>\n      <th>Kings</th>\n      <td>741.0</td>\n      <td>812.0</td>\n      <td>756.0</td>\n      <td>788.0</td>\n    </tr>\n    <tr>\n      <th>Riders</th>\n      <td>876.0</td>\n      <td>789.0</td>\n      <td>694.0</td>\n      <td>690.0</td>\n    </tr>\n    <tr>\n      <th>Royals</th>\n      <td>701.0</td>\n      <td>804.0</td>\n      <td>NaN</td>\n      <td>NaN</td>\n    </tr>\n  </tbody>\n</table>\n</div>"
     },
     "execution_count": 55,
     "metadata": {},
     "output_type": "execute_result"
    }
   ],
   "source": [
    "multi_groupby.unstack()"
   ],
   "metadata": {
    "collapsed": false,
    "ExecuteTime": {
     "end_time": "2024-05-09T06:17:51.194138600Z",
     "start_time": "2024-05-09T06:17:51.169625600Z"
    }
   },
   "id": "7264d76682eba40",
   "execution_count": 55
  },
  {
   "cell_type": "code",
   "outputs": [
    {
     "data": {
      "text/plain": "Year  Team  \n2014  Devils    863\n      Kings     741\n      Riders    876\n      Royals    701\n2015  Devils    673\n      Kings     812\n      Riders    789\n      Royals    804\n2016  Kings     756\n      Riders    694\n2017  Kings     788\n      Riders    690\nName: Points, dtype: int64"
     },
     "execution_count": 76,
     "metadata": {},
     "output_type": "execute_result"
    }
   ],
   "source": [
    "multi_groupby.swaplevel(0,1).sort_index() # 특정 레벨을 교환 가능함 레벨 3까지 있다고 할 때 swap(1,3)이라고 하면 1레벨 과 3레벨 교환 \n",
    "# == multi_groupby.swapleve().sort_index()"
   ],
   "metadata": {
    "collapsed": false,
    "ExecuteTime": {
     "end_time": "2024-05-09T06:33:15.398001100Z",
     "start_time": "2024-05-09T06:33:15.373613500Z"
    }
   },
   "id": "71b262847f2b8bac",
   "execution_count": 76
  },
  {
   "cell_type": "code",
   "outputs": [
    {
     "data": {
      "text/plain": "Year\n2014    795.25\n2015    769.50\n2016    725.00\n2017    739.00\nName: Points, dtype: float64"
     },
     "execution_count": 80,
     "metadata": {},
     "output_type": "execute_result"
    }
   ],
   "source": [
    "# multi_groupby.sum(level=0) ## 구 버전 모드\n",
    "# multi_groupby.groupby(level=0).sum() ## 최신 버전 \n",
    "multi_groupby.groupby(level=1).mean()"
   ],
   "metadata": {
    "collapsed": false,
    "ExecuteTime": {
     "end_time": "2024-05-09T06:36:30.367320400Z",
     "start_time": "2024-05-09T06:36:30.331606700Z"
    }
   },
   "id": "76791f88aa424955",
   "execution_count": 80
  },
  {
   "cell_type": "code",
   "outputs": [],
   "source": [],
   "metadata": {
    "collapsed": false
   },
   "id": "1c84585fa19713a2"
  }
 ],
 "metadata": {
  "kernelspec": {
   "display_name": "Python 3",
   "language": "python",
   "name": "python3"
  },
  "language_info": {
   "codemirror_mode": {
    "name": "ipython",
    "version": 2
   },
   "file_extension": ".py",
   "mimetype": "text/x-python",
   "name": "python",
   "nbconvert_exporter": "python",
   "pygments_lexer": "ipython2",
   "version": "2.7.6"
  }
 },
 "nbformat": 4,
 "nbformat_minor": 5
}
