{
 "cells": [
  {
   "cell_type": "code",
   "execution_count": 11,
   "id": "34a0bd3b",
   "metadata": {},
   "outputs": [
    {
     "name": "stdout",
     "output_type": "stream",
     "text": [
      "Requirement already satisfied: pycryptodome in c:\\users\\home\\anaconda3\\lib\\site-packages (3.20.0)\n",
      "Note: you may need to restart the kernel to use updated packages.\n"
     ]
    }
   ],
   "source": [
    "pip install pycryptodome"
   ]
  },
  {
   "cell_type": "code",
   "execution_count": 17,
   "id": "663e6649",
   "metadata": {},
   "outputs": [],
   "source": [
    "public_key= '-----BEGIN PUBLIC KEY-----\\nMIIBIjANBgkqhkiG9w0BAQEFAAOCAQ8AMIIBCgKCAQEAnq7mOnJIhuFcubiNidb+\\neTiopblWmVS1T0cL2ajK5khaoh8NBrJey3W5m8xtEtzWdUp8SyrI4pRLLCg08gqh\\nswDNy9cYf9OFwzub14MIYUm/rmdjqC6pg+CPzE748kIzXykQphUJDq8ZgPV+A4oV\\naE938HvI4reH/M5mUMLyALt9HudwESkUkkeif1LXUULaw2umUsShAEz8h7jhb8hB\\nmr393xVKj91VMX4NEwVUWp93UcSBJI/vfBxz8QuiMn9IlVfDZdGrGDWWA6S0vJLc\\noSnzepsghRE1ZLNvF3Ogujr8Fad91oCo7UKje9VmFxD3qoruXko+nOQ13hWDlkso\\nwwIDAQAB\\n-----END PUBLIC KEY-----'"
   ]
  },
  {
   "cell_type": "code",
   "execution_count": 8,
   "id": "f80ba62a",
   "metadata": {},
   "outputs": [],
   "source": [
    "message= \"2020024050 김호진 경영정보시스템 과제 \""
   ]
  },
  {
   "cell_type": "code",
   "execution_count": 18,
   "id": "afa3aeb4",
   "metadata": {},
   "outputs": [
    {
     "data": {
      "text/plain": [
       "b'\\x19\\xc2\\xbdf\\xaa\\xe2u\\xf4\\xb7\\x9a\\xad\\xb6tgom\\xeaZeq\\x1e\\x7fwSf\\x97\\xa6\\xd6\\x9fK\\xd3\\x85\\xee\\xcf,\\xae\\xfaXKX\\xde;\\xb7\\x87<\\xee\\x86;\\xc5\\x088\\xb4\\x7f\\x1c\\xb2\\xfbF#\\xa4\\xccE\\xfaQ\\x8f{#\\x02J\\xff\\xc5b\\xe9,E2w\\x00\\xcd-\\xc9\\xab\\xf2\\x0e\\xeeU\\xd2\\xee0\\x1a\\xf3P\\xd4\\xf9j\\xd4\\xc6.\\x83\\xff\\xacqs\\xf9LQe\\xaaON\\xd2\\x8c\\x06w\\x0c/\\xd15|\\xec7H>\\x11\\xc2l\\xec\\x98\\x00\\xb9yCF\\xbd0.\\x9e\"\\xbc\\xbc\\xbf\\x01O#\\xb2\\xa7a\\xa3\\xc8\\xcbL\\xf5C\\xf9\\xa3\\xaf-\\xd5&\\xcf\\xfci\\xe9\\xa2\\xa8\\x1a\\x91\\x9e\\xbf0\\xbb2y<.\\xc7\\xfak5\\xc9\")-N\\xad\\xfak\\xe2O\\xefz\\xa9A9\\xe3\\x908\\x91\\x81r\\xa6\\x17\\xb6\\xeb\\xb7\\xa6\\x19f\\x82X\\x12\\x05K\\xc4\\x1d_\\x14\\xc0\\xac\\x96\\xb1t\\xbc<\\xefs\\x9eeZ\\xf0\\xe7\\x96\\xcd\\xd49\\xa9\\xa9M\\xdf(\\xc6@\\xc1\\x0b\\xb1\\xea\\x9c\\x19\\xff\\xc1\\xbeQ\\xc7T8\\x16\\x93'"
      ]
     },
     "execution_count": 18,
     "metadata": {},
     "output_type": "execute_result"
    }
   ],
   "source": [
    "from Crypto.PublicKey import RSA\n",
    "from Crypto.Cipher import PKCS1_OAEP\n",
    "\n",
    "cipher_text = PKCS1_OAEP.new(RSA.import_key(public_key)).encrypt(message.encode('utf-8'))   # (1) message를 컴퓨터가 이해할 수 있는 신호로 변환하기 위해 인코딩encoding 하고, (2) 인코딩된 message를 암호화encrypt함\n",
    "cipher_text\n"
   ]
  },
  {
   "cell_type": "code",
   "execution_count": null,
   "id": "ce67da71",
   "metadata": {},
   "outputs": [],
   "source": []
  }
 ],
 "metadata": {
  "kernelspec": {
   "display_name": "Python 3 (ipykernel)",
   "language": "python",
   "name": "python3"
  },
  "language_info": {
   "codemirror_mode": {
    "name": "ipython",
    "version": 3
   },
   "file_extension": ".py",
   "mimetype": "text/x-python",
   "name": "python",
   "nbconvert_exporter": "python",
   "pygments_lexer": "ipython3",
   "version": "3.10.9"
  }
 },
 "nbformat": 4,
 "nbformat_minor": 5
}
