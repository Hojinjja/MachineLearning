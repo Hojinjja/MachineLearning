{
 "cells": [
  {
   "cell_type": "code",
   "execution_count": 36,
   "id": "initial_id",
   "metadata": {
    "collapsed": true,
    "ExecuteTime": {
     "end_time": "2024-05-30T09:04:12.268537300Z",
     "start_time": "2024-05-30T09:04:12.205978Z"
    }
   },
   "outputs": [
    {
     "name": "stdout",
     "output_type": "stream",
     "text": [
      "{'encoding': 'EUC-KR', 'confidence': 0.99, 'language': 'Korean'}\n",
      "                           순위,정류장ID,정류장명,승차소계,승차,시계외  승차,환승  승차,하차소계,하차,시계외  \\\n",
      "0  1,4374891,시외버스터미널,\"6,170\",\"5,247\",0,923,\"2,719...    NaN             NaN   \n",
      "1  2,4376371,지하상가,\"4,005\",\"3,301\",0,704,\"1,144\",\"...    NaN             NaN   \n",
      "2  3,4379021,도청,\"2,719\",\"1,466\",0,\"1,253\",\"1,971\"...    NaN             NaN   \n",
      "3  4,4377911,서운동,\"2,640\",\"1,429\",0,\"1,211\",\"1,536...    NaN             NaN   \n",
      "4  5,4376711,도청,\"2,435\",\"1,495\",0,940,\"1,319\",\"1,...    NaN             NaN   \n",
      "\n",
      "   하차,총  이용인원  \n",
      "0   NaN   NaN  \n",
      "1   NaN   NaN  \n",
      "2   NaN   NaN  \n",
      "3   NaN   NaN  \n",
      "4   NaN   NaN  \n"
     ]
    }
   ],
   "source": [
    "import pandas as pd\n",
    "import chardet\n",
    "\n",
    "data_url = 'C:/work/machineRunning/bus.csv'\n",
    "\n",
    "# 파일 인코딩 확인\n",
    "with open(data_url, 'rb') as f:\n",
    "    result = chardet.detect(f.read())\n",
    "    print(result)\n",
    "\n",
    "# 인코딩이 EUC-KR인 경우 파일 읽기\n",
    "try:\n",
    "    df = pd.read_csv(\n",
    "        data_url,\n",
    "        header=0,  # 파일에 열 이름이 없다고 가정\n",
    "        quotechar='\"',  # 큰따옴표로 묶인 필드 처리\n",
    "        sep=' ',  # 쉼표로 구분\n",
    "        engine='python',  # C 엔진에서 문제 발생 시 파이썬 엔진 사용\n",
    "        encoding='euc-kr'  # 인코딩 설정\n",
    "    )\n",
    "    \n",
    "except UnicodeDecodeError as e:\n",
    "    print(\"파일 읽기 중 UnicodeDecodeError 발생:\", e)\n",
    "except Exception as e:\n",
    "    print(\"파일 읽기 중 오류 발생:\", e)\n",
    "\n",
    "# 데이터프레임 출력\n",
    "print(df.head())\n"
   ]
  },
  {
   "cell_type": "code",
   "outputs": [
    {
     "data": {
      "text/plain": "    순위    정류장ID       정류장명   승차소계     승차 시계외 승차  환승 승차   하차소계     하차  시계외 하차  \\\n0    1  4374891    시외버스터미널  6,170  5,247      0    923  2,719  2,719       0   \n1    2  4376371       지하상가  4,005  3,301      0    704  1,144  1,144       0   \n2    3  4379021         도청  2,719  1,466      0  1,253  1,971  1,971       0   \n3    4  4377911        서운동  2,640  1,429      0  1,211  1,536  1,536       0   \n4    5  4376711         도청  2,435  1,495      0    940  1,319  1,319       0   \n5    6  4372501       상당공원  1,901    994      0    907  1,781  1,781       0   \n6    7  4361111      청주대학교  2,834  2,524      0    310    828    828       0   \n7    8  4391231      사창사거리  2,455  1,947      0    508  1,207  1,207       0   \n8    9  4357571      청주체육관  2,473  1,252      0  1,221  1,101  1,101       0   \n9   10  4358401        육거리  2,210  1,303      0    907  1,097  1,097       0   \n10  11  4377731       지하상가  2,097  1,447      0    650  1,097  1,097       0   \n11  12  4374651   고속.시외터미널  1,875  1,374      0    501  1,310  1,310       0   \n12  13  4378991       상당공원  1,950  1,115      0    835  1,028  1,028       0   \n13  14  4377361    용두사지철당간  2,050  1,438      0    612    794    794       0   \n14  15  4377781        육거리  2,106  1,266      0    840    684    684       0   \n15  16  4370491       청주대교  1,946  1,545      0    401    743    743       0   \n16  17  4377451     문화산업단지  1,686  1,213      0    473    918    918       0   \n17  18  4377771      육거리시장  1,193    843      0    350  1,211  1,211       0   \n18  19  4377671    충북대학교입구  1,465    827      0    638    939    939       0   \n19  20  4361821      청주대학교  1,313    894      0    419    801    801       0   \n20  21  4377721     청주고등학교  1,335  1,057      0    278    765    765       0   \n21  22  4361121        석교동  1,714  1,008      0    706    326    326       0   \n22  23  4378861        육거리  1,080    759      0    321    913    913       0   \n23  24  4361991     문화산업단지  1,371    651      0    720    530    530       0   \n24  25  4391121      사창사거리  1,046    474      0    572    836    836       0   \n25  26  4363381     청주고등학교  1,412    944      0    468    439    439       0   \n26  27  4377941     산업단지입구  1,166    895      0    271    623    623       0   \n27  28  4377841       신한은행  1,399  1,097      0    302    358    358       0   \n28  29  4371220       조치원역  1,395      0  1,395      0    357      0     357   \n29  30  4363011       청주대교  1,447  1,213      0    234    304    304       0   \n30  31  4378981         시청  1,338    948      1    389    384    384       0   \n31  32  4359631      충북대중문  1,399    849      0    550    318    318       0   \n32  33  4376581      사직사거리    908    734      0    174    712    712       0   \n33  34  4375551    고속버스터미널  1,126    778      0    348    316    316       0   \n34  35  4361961         시청    984    811      0    173    426    426       0   \n35  36  4376571      사직사거리  1,028    788      0    240    368    368       0   \n36  37  4363491     산업단지입구    907    561      0    346    444    444       0   \n37  38  4377951    분평주공2단지  1,254  1,225      0     29     61     61       0   \n38  39  4378931     우암초등학교    960    899      0     61    310    310       0   \n39  40  4377741  중앙여고,사창시장  1,000    933      0     67    261    261       0   \n40  41  4374251     청주성모병원  1,072  1,004      0     68    168    168       0   \n41  42  4377881      수곡우체국  1,002    831      0    171    174    174       0   \n42  43  4378941      효성아파트  1,097  1,068      0     29     67     67       0   \n43  44  4378801    현대3차아파트  1,067  1,019      0     48     79     79       0   \n44  45  4368581   월곡리.충청대학  1,082  1,073      0      9     31     31       0   \n45  46  4374041        오송역    687    624      1     62    418    418       0   \n46  47  4377961   분평뜨란채1단지  1,004    958      0     46     97     97       0   \n47  48  4377411       신한은행    669    422      0    247    422    422       0   \n48  49  4363401  중앙여고,사창시장    780    723      0     57    304    304       0   \n49  50  4377871        시계탑    837    787      0     50    244    244       0   \n\n   총 이용인원  \n0   8,890  \n1   5,148  \n2   4,692  \n3   4,178  \n4   3,755  \n5   3,682  \n6   3,663  \n7   3,662  \n8   3,574  \n9   3,309  \n10  3,194  \n11  3,185  \n12  2,979  \n13  2,844  \n14  2,789  \n15  2,688  \n16  2,605  \n17  2,404  \n18  2,403  \n19  2,114  \n20  2,100  \n21  2,043  \n22  1,994  \n23  1,902  \n24  1,882  \n25  1,852  \n26  1,788  \n27  1,757  \n28  1,753  \n29  1,751  \n30  1,722  \n31  1,717  \n32  1,620  \n33  1,442  \n34  1,410  \n35  1,396  \n36  1,351  \n37  1,315  \n38  1,270  \n39  1,262  \n40  1,240  \n41  1,176  \n42  1,163  \n43  1,146  \n44  1,113  \n45  1,105  \n46  1,101  \n47  1,091  \n48  1,084  \n49  1,082  ",
      "text/html": "<div>\n<style scoped>\n    .dataframe tbody tr th:only-of-type {\n        vertical-align: middle;\n    }\n\n    .dataframe tbody tr th {\n        vertical-align: top;\n    }\n\n    .dataframe thead th {\n        text-align: right;\n    }\n</style>\n<table border=\"1\" class=\"dataframe\">\n  <thead>\n    <tr style=\"text-align: right;\">\n      <th></th>\n      <th>순위</th>\n      <th>정류장ID</th>\n      <th>정류장명</th>\n      <th>승차소계</th>\n      <th>승차</th>\n      <th>시계외 승차</th>\n      <th>환승 승차</th>\n      <th>하차소계</th>\n      <th>하차</th>\n      <th>시계외 하차</th>\n      <th>총 이용인원</th>\n    </tr>\n  </thead>\n  <tbody>\n    <tr>\n      <th>0</th>\n      <td>1</td>\n      <td>4374891</td>\n      <td>시외버스터미널</td>\n      <td>6,170</td>\n      <td>5,247</td>\n      <td>0</td>\n      <td>923</td>\n      <td>2,719</td>\n      <td>2,719</td>\n      <td>0</td>\n      <td>8,890</td>\n    </tr>\n    <tr>\n      <th>1</th>\n      <td>2</td>\n      <td>4376371</td>\n      <td>지하상가</td>\n      <td>4,005</td>\n      <td>3,301</td>\n      <td>0</td>\n      <td>704</td>\n      <td>1,144</td>\n      <td>1,144</td>\n      <td>0</td>\n      <td>5,148</td>\n    </tr>\n    <tr>\n      <th>2</th>\n      <td>3</td>\n      <td>4379021</td>\n      <td>도청</td>\n      <td>2,719</td>\n      <td>1,466</td>\n      <td>0</td>\n      <td>1,253</td>\n      <td>1,971</td>\n      <td>1,971</td>\n      <td>0</td>\n      <td>4,692</td>\n    </tr>\n    <tr>\n      <th>3</th>\n      <td>4</td>\n      <td>4377911</td>\n      <td>서운동</td>\n      <td>2,640</td>\n      <td>1,429</td>\n      <td>0</td>\n      <td>1,211</td>\n      <td>1,536</td>\n      <td>1,536</td>\n      <td>0</td>\n      <td>4,178</td>\n    </tr>\n    <tr>\n      <th>4</th>\n      <td>5</td>\n      <td>4376711</td>\n      <td>도청</td>\n      <td>2,435</td>\n      <td>1,495</td>\n      <td>0</td>\n      <td>940</td>\n      <td>1,319</td>\n      <td>1,319</td>\n      <td>0</td>\n      <td>3,755</td>\n    </tr>\n    <tr>\n      <th>5</th>\n      <td>6</td>\n      <td>4372501</td>\n      <td>상당공원</td>\n      <td>1,901</td>\n      <td>994</td>\n      <td>0</td>\n      <td>907</td>\n      <td>1,781</td>\n      <td>1,781</td>\n      <td>0</td>\n      <td>3,682</td>\n    </tr>\n    <tr>\n      <th>6</th>\n      <td>7</td>\n      <td>4361111</td>\n      <td>청주대학교</td>\n      <td>2,834</td>\n      <td>2,524</td>\n      <td>0</td>\n      <td>310</td>\n      <td>828</td>\n      <td>828</td>\n      <td>0</td>\n      <td>3,663</td>\n    </tr>\n    <tr>\n      <th>7</th>\n      <td>8</td>\n      <td>4391231</td>\n      <td>사창사거리</td>\n      <td>2,455</td>\n      <td>1,947</td>\n      <td>0</td>\n      <td>508</td>\n      <td>1,207</td>\n      <td>1,207</td>\n      <td>0</td>\n      <td>3,662</td>\n    </tr>\n    <tr>\n      <th>8</th>\n      <td>9</td>\n      <td>4357571</td>\n      <td>청주체육관</td>\n      <td>2,473</td>\n      <td>1,252</td>\n      <td>0</td>\n      <td>1,221</td>\n      <td>1,101</td>\n      <td>1,101</td>\n      <td>0</td>\n      <td>3,574</td>\n    </tr>\n    <tr>\n      <th>9</th>\n      <td>10</td>\n      <td>4358401</td>\n      <td>육거리</td>\n      <td>2,210</td>\n      <td>1,303</td>\n      <td>0</td>\n      <td>907</td>\n      <td>1,097</td>\n      <td>1,097</td>\n      <td>0</td>\n      <td>3,309</td>\n    </tr>\n    <tr>\n      <th>10</th>\n      <td>11</td>\n      <td>4377731</td>\n      <td>지하상가</td>\n      <td>2,097</td>\n      <td>1,447</td>\n      <td>0</td>\n      <td>650</td>\n      <td>1,097</td>\n      <td>1,097</td>\n      <td>0</td>\n      <td>3,194</td>\n    </tr>\n    <tr>\n      <th>11</th>\n      <td>12</td>\n      <td>4374651</td>\n      <td>고속.시외터미널</td>\n      <td>1,875</td>\n      <td>1,374</td>\n      <td>0</td>\n      <td>501</td>\n      <td>1,310</td>\n      <td>1,310</td>\n      <td>0</td>\n      <td>3,185</td>\n    </tr>\n    <tr>\n      <th>12</th>\n      <td>13</td>\n      <td>4378991</td>\n      <td>상당공원</td>\n      <td>1,950</td>\n      <td>1,115</td>\n      <td>0</td>\n      <td>835</td>\n      <td>1,028</td>\n      <td>1,028</td>\n      <td>0</td>\n      <td>2,979</td>\n    </tr>\n    <tr>\n      <th>13</th>\n      <td>14</td>\n      <td>4377361</td>\n      <td>용두사지철당간</td>\n      <td>2,050</td>\n      <td>1,438</td>\n      <td>0</td>\n      <td>612</td>\n      <td>794</td>\n      <td>794</td>\n      <td>0</td>\n      <td>2,844</td>\n    </tr>\n    <tr>\n      <th>14</th>\n      <td>15</td>\n      <td>4377781</td>\n      <td>육거리</td>\n      <td>2,106</td>\n      <td>1,266</td>\n      <td>0</td>\n      <td>840</td>\n      <td>684</td>\n      <td>684</td>\n      <td>0</td>\n      <td>2,789</td>\n    </tr>\n    <tr>\n      <th>15</th>\n      <td>16</td>\n      <td>4370491</td>\n      <td>청주대교</td>\n      <td>1,946</td>\n      <td>1,545</td>\n      <td>0</td>\n      <td>401</td>\n      <td>743</td>\n      <td>743</td>\n      <td>0</td>\n      <td>2,688</td>\n    </tr>\n    <tr>\n      <th>16</th>\n      <td>17</td>\n      <td>4377451</td>\n      <td>문화산업단지</td>\n      <td>1,686</td>\n      <td>1,213</td>\n      <td>0</td>\n      <td>473</td>\n      <td>918</td>\n      <td>918</td>\n      <td>0</td>\n      <td>2,605</td>\n    </tr>\n    <tr>\n      <th>17</th>\n      <td>18</td>\n      <td>4377771</td>\n      <td>육거리시장</td>\n      <td>1,193</td>\n      <td>843</td>\n      <td>0</td>\n      <td>350</td>\n      <td>1,211</td>\n      <td>1,211</td>\n      <td>0</td>\n      <td>2,404</td>\n    </tr>\n    <tr>\n      <th>18</th>\n      <td>19</td>\n      <td>4377671</td>\n      <td>충북대학교입구</td>\n      <td>1,465</td>\n      <td>827</td>\n      <td>0</td>\n      <td>638</td>\n      <td>939</td>\n      <td>939</td>\n      <td>0</td>\n      <td>2,403</td>\n    </tr>\n    <tr>\n      <th>19</th>\n      <td>20</td>\n      <td>4361821</td>\n      <td>청주대학교</td>\n      <td>1,313</td>\n      <td>894</td>\n      <td>0</td>\n      <td>419</td>\n      <td>801</td>\n      <td>801</td>\n      <td>0</td>\n      <td>2,114</td>\n    </tr>\n    <tr>\n      <th>20</th>\n      <td>21</td>\n      <td>4377721</td>\n      <td>청주고등학교</td>\n      <td>1,335</td>\n      <td>1,057</td>\n      <td>0</td>\n      <td>278</td>\n      <td>765</td>\n      <td>765</td>\n      <td>0</td>\n      <td>2,100</td>\n    </tr>\n    <tr>\n      <th>21</th>\n      <td>22</td>\n      <td>4361121</td>\n      <td>석교동</td>\n      <td>1,714</td>\n      <td>1,008</td>\n      <td>0</td>\n      <td>706</td>\n      <td>326</td>\n      <td>326</td>\n      <td>0</td>\n      <td>2,043</td>\n    </tr>\n    <tr>\n      <th>22</th>\n      <td>23</td>\n      <td>4378861</td>\n      <td>육거리</td>\n      <td>1,080</td>\n      <td>759</td>\n      <td>0</td>\n      <td>321</td>\n      <td>913</td>\n      <td>913</td>\n      <td>0</td>\n      <td>1,994</td>\n    </tr>\n    <tr>\n      <th>23</th>\n      <td>24</td>\n      <td>4361991</td>\n      <td>문화산업단지</td>\n      <td>1,371</td>\n      <td>651</td>\n      <td>0</td>\n      <td>720</td>\n      <td>530</td>\n      <td>530</td>\n      <td>0</td>\n      <td>1,902</td>\n    </tr>\n    <tr>\n      <th>24</th>\n      <td>25</td>\n      <td>4391121</td>\n      <td>사창사거리</td>\n      <td>1,046</td>\n      <td>474</td>\n      <td>0</td>\n      <td>572</td>\n      <td>836</td>\n      <td>836</td>\n      <td>0</td>\n      <td>1,882</td>\n    </tr>\n    <tr>\n      <th>25</th>\n      <td>26</td>\n      <td>4363381</td>\n      <td>청주고등학교</td>\n      <td>1,412</td>\n      <td>944</td>\n      <td>0</td>\n      <td>468</td>\n      <td>439</td>\n      <td>439</td>\n      <td>0</td>\n      <td>1,852</td>\n    </tr>\n    <tr>\n      <th>26</th>\n      <td>27</td>\n      <td>4377941</td>\n      <td>산업단지입구</td>\n      <td>1,166</td>\n      <td>895</td>\n      <td>0</td>\n      <td>271</td>\n      <td>623</td>\n      <td>623</td>\n      <td>0</td>\n      <td>1,788</td>\n    </tr>\n    <tr>\n      <th>27</th>\n      <td>28</td>\n      <td>4377841</td>\n      <td>신한은행</td>\n      <td>1,399</td>\n      <td>1,097</td>\n      <td>0</td>\n      <td>302</td>\n      <td>358</td>\n      <td>358</td>\n      <td>0</td>\n      <td>1,757</td>\n    </tr>\n    <tr>\n      <th>28</th>\n      <td>29</td>\n      <td>4371220</td>\n      <td>조치원역</td>\n      <td>1,395</td>\n      <td>0</td>\n      <td>1,395</td>\n      <td>0</td>\n      <td>357</td>\n      <td>0</td>\n      <td>357</td>\n      <td>1,753</td>\n    </tr>\n    <tr>\n      <th>29</th>\n      <td>30</td>\n      <td>4363011</td>\n      <td>청주대교</td>\n      <td>1,447</td>\n      <td>1,213</td>\n      <td>0</td>\n      <td>234</td>\n      <td>304</td>\n      <td>304</td>\n      <td>0</td>\n      <td>1,751</td>\n    </tr>\n    <tr>\n      <th>30</th>\n      <td>31</td>\n      <td>4378981</td>\n      <td>시청</td>\n      <td>1,338</td>\n      <td>948</td>\n      <td>1</td>\n      <td>389</td>\n      <td>384</td>\n      <td>384</td>\n      <td>0</td>\n      <td>1,722</td>\n    </tr>\n    <tr>\n      <th>31</th>\n      <td>32</td>\n      <td>4359631</td>\n      <td>충북대중문</td>\n      <td>1,399</td>\n      <td>849</td>\n      <td>0</td>\n      <td>550</td>\n      <td>318</td>\n      <td>318</td>\n      <td>0</td>\n      <td>1,717</td>\n    </tr>\n    <tr>\n      <th>32</th>\n      <td>33</td>\n      <td>4376581</td>\n      <td>사직사거리</td>\n      <td>908</td>\n      <td>734</td>\n      <td>0</td>\n      <td>174</td>\n      <td>712</td>\n      <td>712</td>\n      <td>0</td>\n      <td>1,620</td>\n    </tr>\n    <tr>\n      <th>33</th>\n      <td>34</td>\n      <td>4375551</td>\n      <td>고속버스터미널</td>\n      <td>1,126</td>\n      <td>778</td>\n      <td>0</td>\n      <td>348</td>\n      <td>316</td>\n      <td>316</td>\n      <td>0</td>\n      <td>1,442</td>\n    </tr>\n    <tr>\n      <th>34</th>\n      <td>35</td>\n      <td>4361961</td>\n      <td>시청</td>\n      <td>984</td>\n      <td>811</td>\n      <td>0</td>\n      <td>173</td>\n      <td>426</td>\n      <td>426</td>\n      <td>0</td>\n      <td>1,410</td>\n    </tr>\n    <tr>\n      <th>35</th>\n      <td>36</td>\n      <td>4376571</td>\n      <td>사직사거리</td>\n      <td>1,028</td>\n      <td>788</td>\n      <td>0</td>\n      <td>240</td>\n      <td>368</td>\n      <td>368</td>\n      <td>0</td>\n      <td>1,396</td>\n    </tr>\n    <tr>\n      <th>36</th>\n      <td>37</td>\n      <td>4363491</td>\n      <td>산업단지입구</td>\n      <td>907</td>\n      <td>561</td>\n      <td>0</td>\n      <td>346</td>\n      <td>444</td>\n      <td>444</td>\n      <td>0</td>\n      <td>1,351</td>\n    </tr>\n    <tr>\n      <th>37</th>\n      <td>38</td>\n      <td>4377951</td>\n      <td>분평주공2단지</td>\n      <td>1,254</td>\n      <td>1,225</td>\n      <td>0</td>\n      <td>29</td>\n      <td>61</td>\n      <td>61</td>\n      <td>0</td>\n      <td>1,315</td>\n    </tr>\n    <tr>\n      <th>38</th>\n      <td>39</td>\n      <td>4378931</td>\n      <td>우암초등학교</td>\n      <td>960</td>\n      <td>899</td>\n      <td>0</td>\n      <td>61</td>\n      <td>310</td>\n      <td>310</td>\n      <td>0</td>\n      <td>1,270</td>\n    </tr>\n    <tr>\n      <th>39</th>\n      <td>40</td>\n      <td>4377741</td>\n      <td>중앙여고,사창시장</td>\n      <td>1,000</td>\n      <td>933</td>\n      <td>0</td>\n      <td>67</td>\n      <td>261</td>\n      <td>261</td>\n      <td>0</td>\n      <td>1,262</td>\n    </tr>\n    <tr>\n      <th>40</th>\n      <td>41</td>\n      <td>4374251</td>\n      <td>청주성모병원</td>\n      <td>1,072</td>\n      <td>1,004</td>\n      <td>0</td>\n      <td>68</td>\n      <td>168</td>\n      <td>168</td>\n      <td>0</td>\n      <td>1,240</td>\n    </tr>\n    <tr>\n      <th>41</th>\n      <td>42</td>\n      <td>4377881</td>\n      <td>수곡우체국</td>\n      <td>1,002</td>\n      <td>831</td>\n      <td>0</td>\n      <td>171</td>\n      <td>174</td>\n      <td>174</td>\n      <td>0</td>\n      <td>1,176</td>\n    </tr>\n    <tr>\n      <th>42</th>\n      <td>43</td>\n      <td>4378941</td>\n      <td>효성아파트</td>\n      <td>1,097</td>\n      <td>1,068</td>\n      <td>0</td>\n      <td>29</td>\n      <td>67</td>\n      <td>67</td>\n      <td>0</td>\n      <td>1,163</td>\n    </tr>\n    <tr>\n      <th>43</th>\n      <td>44</td>\n      <td>4378801</td>\n      <td>현대3차아파트</td>\n      <td>1,067</td>\n      <td>1,019</td>\n      <td>0</td>\n      <td>48</td>\n      <td>79</td>\n      <td>79</td>\n      <td>0</td>\n      <td>1,146</td>\n    </tr>\n    <tr>\n      <th>44</th>\n      <td>45</td>\n      <td>4368581</td>\n      <td>월곡리.충청대학</td>\n      <td>1,082</td>\n      <td>1,073</td>\n      <td>0</td>\n      <td>9</td>\n      <td>31</td>\n      <td>31</td>\n      <td>0</td>\n      <td>1,113</td>\n    </tr>\n    <tr>\n      <th>45</th>\n      <td>46</td>\n      <td>4374041</td>\n      <td>오송역</td>\n      <td>687</td>\n      <td>624</td>\n      <td>1</td>\n      <td>62</td>\n      <td>418</td>\n      <td>418</td>\n      <td>0</td>\n      <td>1,105</td>\n    </tr>\n    <tr>\n      <th>46</th>\n      <td>47</td>\n      <td>4377961</td>\n      <td>분평뜨란채1단지</td>\n      <td>1,004</td>\n      <td>958</td>\n      <td>0</td>\n      <td>46</td>\n      <td>97</td>\n      <td>97</td>\n      <td>0</td>\n      <td>1,101</td>\n    </tr>\n    <tr>\n      <th>47</th>\n      <td>48</td>\n      <td>4377411</td>\n      <td>신한은행</td>\n      <td>669</td>\n      <td>422</td>\n      <td>0</td>\n      <td>247</td>\n      <td>422</td>\n      <td>422</td>\n      <td>0</td>\n      <td>1,091</td>\n    </tr>\n    <tr>\n      <th>48</th>\n      <td>49</td>\n      <td>4363401</td>\n      <td>중앙여고,사창시장</td>\n      <td>780</td>\n      <td>723</td>\n      <td>0</td>\n      <td>57</td>\n      <td>304</td>\n      <td>304</td>\n      <td>0</td>\n      <td>1,084</td>\n    </tr>\n    <tr>\n      <th>49</th>\n      <td>50</td>\n      <td>4377871</td>\n      <td>시계탑</td>\n      <td>837</td>\n      <td>787</td>\n      <td>0</td>\n      <td>50</td>\n      <td>244</td>\n      <td>244</td>\n      <td>0</td>\n      <td>1,082</td>\n    </tr>\n  </tbody>\n</table>\n</div>"
     },
     "execution_count": 41,
     "metadata": {},
     "output_type": "execute_result"
    }
   ],
   "source": [
    "df_data = pd.read_csv(data_url,sep=',',header=0,encoding='euc-kr')\n",
    "df=pd.DataFrame(df_data)\n",
    "df"
   ],
   "metadata": {
    "collapsed": false,
    "ExecuteTime": {
     "end_time": "2024-05-30T09:05:48.872829500Z",
     "start_time": "2024-05-30T09:05:48.824319800Z"
    }
   },
   "id": "e16cc0352341933a",
   "execution_count": 41
  },
  {
   "cell_type": "code",
   "outputs": [
    {
     "data": {
      "text/plain": "      정류장ID       정류장명   승차소계     승차  환승 승차   하차소계     하차  시계외 하차 총 이용인원\n순위                                                                      \n1   4374891    시외버스터미널  6,170  5,247    923  2,719  2,719       0  8,890\n2   4376371       지하상가  4,005  3,301    704  1,144  1,144       0  5,148\n3   4379021         도청  2,719  1,466  1,253  1,971  1,971       0  4,692\n4   4377911        서운동  2,640  1,429  1,211  1,536  1,536       0  4,178\n5   4376711         도청  2,435  1,495    940  1,319  1,319       0  3,755\n6   4372501       상당공원  1,901    994    907  1,781  1,781       0  3,682\n7   4361111      청주대학교  2,834  2,524    310    828    828       0  3,663\n8   4391231      사창사거리  2,455  1,947    508  1,207  1,207       0  3,662\n9   4357571      청주체육관  2,473  1,252  1,221  1,101  1,101       0  3,574\n10  4358401        육거리  2,210  1,303    907  1,097  1,097       0  3,309\n11  4377731       지하상가  2,097  1,447    650  1,097  1,097       0  3,194\n12  4374651   고속.시외터미널  1,875  1,374    501  1,310  1,310       0  3,185\n13  4378991       상당공원  1,950  1,115    835  1,028  1,028       0  2,979\n14  4377361    용두사지철당간  2,050  1,438    612    794    794       0  2,844\n15  4377781        육거리  2,106  1,266    840    684    684       0  2,789\n16  4370491       청주대교  1,946  1,545    401    743    743       0  2,688\n17  4377451     문화산업단지  1,686  1,213    473    918    918       0  2,605\n18  4377771      육거리시장  1,193    843    350  1,211  1,211       0  2,404\n19  4377671    충북대학교입구  1,465    827    638    939    939       0  2,403\n20  4361821      청주대학교  1,313    894    419    801    801       0  2,114\n21  4377721     청주고등학교  1,335  1,057    278    765    765       0  2,100\n22  4361121        석교동  1,714  1,008    706    326    326       0  2,043\n23  4378861        육거리  1,080    759    321    913    913       0  1,994\n24  4361991     문화산업단지  1,371    651    720    530    530       0  1,902\n25  4391121      사창사거리  1,046    474    572    836    836       0  1,882\n26  4363381     청주고등학교  1,412    944    468    439    439       0  1,852\n27  4377941     산업단지입구  1,166    895    271    623    623       0  1,788\n28  4377841       신한은행  1,399  1,097    302    358    358       0  1,757\n29  4371220       조치원역  1,395      0      0    357      0     357  1,753\n30  4363011       청주대교  1,447  1,213    234    304    304       0  1,751\n31  4378981         시청  1,338    948    389    384    384       0  1,722\n32  4359631      충북대중문  1,399    849    550    318    318       0  1,717\n33  4376581      사직사거리    908    734    174    712    712       0  1,620\n34  4375551    고속버스터미널  1,126    778    348    316    316       0  1,442\n35  4361961         시청    984    811    173    426    426       0  1,410\n36  4376571      사직사거리  1,028    788    240    368    368       0  1,396\n37  4363491     산업단지입구    907    561    346    444    444       0  1,351\n38  4377951    분평주공2단지  1,254  1,225     29     61     61       0  1,315\n39  4378931     우암초등학교    960    899     61    310    310       0  1,270\n40  4377741  중앙여고,사창시장  1,000    933     67    261    261       0  1,262\n41  4374251     청주성모병원  1,072  1,004     68    168    168       0  1,240\n42  4377881      수곡우체국  1,002    831    171    174    174       0  1,176\n43  4378941      효성아파트  1,097  1,068     29     67     67       0  1,163\n44  4378801    현대3차아파트  1,067  1,019     48     79     79       0  1,146\n45  4368581   월곡리.충청대학  1,082  1,073      9     31     31       0  1,113\n46  4374041        오송역    687    624     62    418    418       0  1,105\n47  4377961   분평뜨란채1단지  1,004    958     46     97     97       0  1,101\n48  4377411       신한은행    669    422    247    422    422       0  1,091\n49  4363401  중앙여고,사창시장    780    723     57    304    304       0  1,084\n50  4377871        시계탑    837    787     50    244    244       0  1,082",
      "text/html": "<div>\n<style scoped>\n    .dataframe tbody tr th:only-of-type {\n        vertical-align: middle;\n    }\n\n    .dataframe tbody tr th {\n        vertical-align: top;\n    }\n\n    .dataframe thead th {\n        text-align: right;\n    }\n</style>\n<table border=\"1\" class=\"dataframe\">\n  <thead>\n    <tr style=\"text-align: right;\">\n      <th></th>\n      <th>정류장ID</th>\n      <th>정류장명</th>\n      <th>승차소계</th>\n      <th>승차</th>\n      <th>환승 승차</th>\n      <th>하차소계</th>\n      <th>하차</th>\n      <th>시계외 하차</th>\n      <th>총 이용인원</th>\n    </tr>\n    <tr>\n      <th>순위</th>\n      <th></th>\n      <th></th>\n      <th></th>\n      <th></th>\n      <th></th>\n      <th></th>\n      <th></th>\n      <th></th>\n      <th></th>\n    </tr>\n  </thead>\n  <tbody>\n    <tr>\n      <th>1</th>\n      <td>4374891</td>\n      <td>시외버스터미널</td>\n      <td>6,170</td>\n      <td>5,247</td>\n      <td>923</td>\n      <td>2,719</td>\n      <td>2,719</td>\n      <td>0</td>\n      <td>8,890</td>\n    </tr>\n    <tr>\n      <th>2</th>\n      <td>4376371</td>\n      <td>지하상가</td>\n      <td>4,005</td>\n      <td>3,301</td>\n      <td>704</td>\n      <td>1,144</td>\n      <td>1,144</td>\n      <td>0</td>\n      <td>5,148</td>\n    </tr>\n    <tr>\n      <th>3</th>\n      <td>4379021</td>\n      <td>도청</td>\n      <td>2,719</td>\n      <td>1,466</td>\n      <td>1,253</td>\n      <td>1,971</td>\n      <td>1,971</td>\n      <td>0</td>\n      <td>4,692</td>\n    </tr>\n    <tr>\n      <th>4</th>\n      <td>4377911</td>\n      <td>서운동</td>\n      <td>2,640</td>\n      <td>1,429</td>\n      <td>1,211</td>\n      <td>1,536</td>\n      <td>1,536</td>\n      <td>0</td>\n      <td>4,178</td>\n    </tr>\n    <tr>\n      <th>5</th>\n      <td>4376711</td>\n      <td>도청</td>\n      <td>2,435</td>\n      <td>1,495</td>\n      <td>940</td>\n      <td>1,319</td>\n      <td>1,319</td>\n      <td>0</td>\n      <td>3,755</td>\n    </tr>\n    <tr>\n      <th>6</th>\n      <td>4372501</td>\n      <td>상당공원</td>\n      <td>1,901</td>\n      <td>994</td>\n      <td>907</td>\n      <td>1,781</td>\n      <td>1,781</td>\n      <td>0</td>\n      <td>3,682</td>\n    </tr>\n    <tr>\n      <th>7</th>\n      <td>4361111</td>\n      <td>청주대학교</td>\n      <td>2,834</td>\n      <td>2,524</td>\n      <td>310</td>\n      <td>828</td>\n      <td>828</td>\n      <td>0</td>\n      <td>3,663</td>\n    </tr>\n    <tr>\n      <th>8</th>\n      <td>4391231</td>\n      <td>사창사거리</td>\n      <td>2,455</td>\n      <td>1,947</td>\n      <td>508</td>\n      <td>1,207</td>\n      <td>1,207</td>\n      <td>0</td>\n      <td>3,662</td>\n    </tr>\n    <tr>\n      <th>9</th>\n      <td>4357571</td>\n      <td>청주체육관</td>\n      <td>2,473</td>\n      <td>1,252</td>\n      <td>1,221</td>\n      <td>1,101</td>\n      <td>1,101</td>\n      <td>0</td>\n      <td>3,574</td>\n    </tr>\n    <tr>\n      <th>10</th>\n      <td>4358401</td>\n      <td>육거리</td>\n      <td>2,210</td>\n      <td>1,303</td>\n      <td>907</td>\n      <td>1,097</td>\n      <td>1,097</td>\n      <td>0</td>\n      <td>3,309</td>\n    </tr>\n    <tr>\n      <th>11</th>\n      <td>4377731</td>\n      <td>지하상가</td>\n      <td>2,097</td>\n      <td>1,447</td>\n      <td>650</td>\n      <td>1,097</td>\n      <td>1,097</td>\n      <td>0</td>\n      <td>3,194</td>\n    </tr>\n    <tr>\n      <th>12</th>\n      <td>4374651</td>\n      <td>고속.시외터미널</td>\n      <td>1,875</td>\n      <td>1,374</td>\n      <td>501</td>\n      <td>1,310</td>\n      <td>1,310</td>\n      <td>0</td>\n      <td>3,185</td>\n    </tr>\n    <tr>\n      <th>13</th>\n      <td>4378991</td>\n      <td>상당공원</td>\n      <td>1,950</td>\n      <td>1,115</td>\n      <td>835</td>\n      <td>1,028</td>\n      <td>1,028</td>\n      <td>0</td>\n      <td>2,979</td>\n    </tr>\n    <tr>\n      <th>14</th>\n      <td>4377361</td>\n      <td>용두사지철당간</td>\n      <td>2,050</td>\n      <td>1,438</td>\n      <td>612</td>\n      <td>794</td>\n      <td>794</td>\n      <td>0</td>\n      <td>2,844</td>\n    </tr>\n    <tr>\n      <th>15</th>\n      <td>4377781</td>\n      <td>육거리</td>\n      <td>2,106</td>\n      <td>1,266</td>\n      <td>840</td>\n      <td>684</td>\n      <td>684</td>\n      <td>0</td>\n      <td>2,789</td>\n    </tr>\n    <tr>\n      <th>16</th>\n      <td>4370491</td>\n      <td>청주대교</td>\n      <td>1,946</td>\n      <td>1,545</td>\n      <td>401</td>\n      <td>743</td>\n      <td>743</td>\n      <td>0</td>\n      <td>2,688</td>\n    </tr>\n    <tr>\n      <th>17</th>\n      <td>4377451</td>\n      <td>문화산업단지</td>\n      <td>1,686</td>\n      <td>1,213</td>\n      <td>473</td>\n      <td>918</td>\n      <td>918</td>\n      <td>0</td>\n      <td>2,605</td>\n    </tr>\n    <tr>\n      <th>18</th>\n      <td>4377771</td>\n      <td>육거리시장</td>\n      <td>1,193</td>\n      <td>843</td>\n      <td>350</td>\n      <td>1,211</td>\n      <td>1,211</td>\n      <td>0</td>\n      <td>2,404</td>\n    </tr>\n    <tr>\n      <th>19</th>\n      <td>4377671</td>\n      <td>충북대학교입구</td>\n      <td>1,465</td>\n      <td>827</td>\n      <td>638</td>\n      <td>939</td>\n      <td>939</td>\n      <td>0</td>\n      <td>2,403</td>\n    </tr>\n    <tr>\n      <th>20</th>\n      <td>4361821</td>\n      <td>청주대학교</td>\n      <td>1,313</td>\n      <td>894</td>\n      <td>419</td>\n      <td>801</td>\n      <td>801</td>\n      <td>0</td>\n      <td>2,114</td>\n    </tr>\n    <tr>\n      <th>21</th>\n      <td>4377721</td>\n      <td>청주고등학교</td>\n      <td>1,335</td>\n      <td>1,057</td>\n      <td>278</td>\n      <td>765</td>\n      <td>765</td>\n      <td>0</td>\n      <td>2,100</td>\n    </tr>\n    <tr>\n      <th>22</th>\n      <td>4361121</td>\n      <td>석교동</td>\n      <td>1,714</td>\n      <td>1,008</td>\n      <td>706</td>\n      <td>326</td>\n      <td>326</td>\n      <td>0</td>\n      <td>2,043</td>\n    </tr>\n    <tr>\n      <th>23</th>\n      <td>4378861</td>\n      <td>육거리</td>\n      <td>1,080</td>\n      <td>759</td>\n      <td>321</td>\n      <td>913</td>\n      <td>913</td>\n      <td>0</td>\n      <td>1,994</td>\n    </tr>\n    <tr>\n      <th>24</th>\n      <td>4361991</td>\n      <td>문화산업단지</td>\n      <td>1,371</td>\n      <td>651</td>\n      <td>720</td>\n      <td>530</td>\n      <td>530</td>\n      <td>0</td>\n      <td>1,902</td>\n    </tr>\n    <tr>\n      <th>25</th>\n      <td>4391121</td>\n      <td>사창사거리</td>\n      <td>1,046</td>\n      <td>474</td>\n      <td>572</td>\n      <td>836</td>\n      <td>836</td>\n      <td>0</td>\n      <td>1,882</td>\n    </tr>\n    <tr>\n      <th>26</th>\n      <td>4363381</td>\n      <td>청주고등학교</td>\n      <td>1,412</td>\n      <td>944</td>\n      <td>468</td>\n      <td>439</td>\n      <td>439</td>\n      <td>0</td>\n      <td>1,852</td>\n    </tr>\n    <tr>\n      <th>27</th>\n      <td>4377941</td>\n      <td>산업단지입구</td>\n      <td>1,166</td>\n      <td>895</td>\n      <td>271</td>\n      <td>623</td>\n      <td>623</td>\n      <td>0</td>\n      <td>1,788</td>\n    </tr>\n    <tr>\n      <th>28</th>\n      <td>4377841</td>\n      <td>신한은행</td>\n      <td>1,399</td>\n      <td>1,097</td>\n      <td>302</td>\n      <td>358</td>\n      <td>358</td>\n      <td>0</td>\n      <td>1,757</td>\n    </tr>\n    <tr>\n      <th>29</th>\n      <td>4371220</td>\n      <td>조치원역</td>\n      <td>1,395</td>\n      <td>0</td>\n      <td>0</td>\n      <td>357</td>\n      <td>0</td>\n      <td>357</td>\n      <td>1,753</td>\n    </tr>\n    <tr>\n      <th>30</th>\n      <td>4363011</td>\n      <td>청주대교</td>\n      <td>1,447</td>\n      <td>1,213</td>\n      <td>234</td>\n      <td>304</td>\n      <td>304</td>\n      <td>0</td>\n      <td>1,751</td>\n    </tr>\n    <tr>\n      <th>31</th>\n      <td>4378981</td>\n      <td>시청</td>\n      <td>1,338</td>\n      <td>948</td>\n      <td>389</td>\n      <td>384</td>\n      <td>384</td>\n      <td>0</td>\n      <td>1,722</td>\n    </tr>\n    <tr>\n      <th>32</th>\n      <td>4359631</td>\n      <td>충북대중문</td>\n      <td>1,399</td>\n      <td>849</td>\n      <td>550</td>\n      <td>318</td>\n      <td>318</td>\n      <td>0</td>\n      <td>1,717</td>\n    </tr>\n    <tr>\n      <th>33</th>\n      <td>4376581</td>\n      <td>사직사거리</td>\n      <td>908</td>\n      <td>734</td>\n      <td>174</td>\n      <td>712</td>\n      <td>712</td>\n      <td>0</td>\n      <td>1,620</td>\n    </tr>\n    <tr>\n      <th>34</th>\n      <td>4375551</td>\n      <td>고속버스터미널</td>\n      <td>1,126</td>\n      <td>778</td>\n      <td>348</td>\n      <td>316</td>\n      <td>316</td>\n      <td>0</td>\n      <td>1,442</td>\n    </tr>\n    <tr>\n      <th>35</th>\n      <td>4361961</td>\n      <td>시청</td>\n      <td>984</td>\n      <td>811</td>\n      <td>173</td>\n      <td>426</td>\n      <td>426</td>\n      <td>0</td>\n      <td>1,410</td>\n    </tr>\n    <tr>\n      <th>36</th>\n      <td>4376571</td>\n      <td>사직사거리</td>\n      <td>1,028</td>\n      <td>788</td>\n      <td>240</td>\n      <td>368</td>\n      <td>368</td>\n      <td>0</td>\n      <td>1,396</td>\n    </tr>\n    <tr>\n      <th>37</th>\n      <td>4363491</td>\n      <td>산업단지입구</td>\n      <td>907</td>\n      <td>561</td>\n      <td>346</td>\n      <td>444</td>\n      <td>444</td>\n      <td>0</td>\n      <td>1,351</td>\n    </tr>\n    <tr>\n      <th>38</th>\n      <td>4377951</td>\n      <td>분평주공2단지</td>\n      <td>1,254</td>\n      <td>1,225</td>\n      <td>29</td>\n      <td>61</td>\n      <td>61</td>\n      <td>0</td>\n      <td>1,315</td>\n    </tr>\n    <tr>\n      <th>39</th>\n      <td>4378931</td>\n      <td>우암초등학교</td>\n      <td>960</td>\n      <td>899</td>\n      <td>61</td>\n      <td>310</td>\n      <td>310</td>\n      <td>0</td>\n      <td>1,270</td>\n    </tr>\n    <tr>\n      <th>40</th>\n      <td>4377741</td>\n      <td>중앙여고,사창시장</td>\n      <td>1,000</td>\n      <td>933</td>\n      <td>67</td>\n      <td>261</td>\n      <td>261</td>\n      <td>0</td>\n      <td>1,262</td>\n    </tr>\n    <tr>\n      <th>41</th>\n      <td>4374251</td>\n      <td>청주성모병원</td>\n      <td>1,072</td>\n      <td>1,004</td>\n      <td>68</td>\n      <td>168</td>\n      <td>168</td>\n      <td>0</td>\n      <td>1,240</td>\n    </tr>\n    <tr>\n      <th>42</th>\n      <td>4377881</td>\n      <td>수곡우체국</td>\n      <td>1,002</td>\n      <td>831</td>\n      <td>171</td>\n      <td>174</td>\n      <td>174</td>\n      <td>0</td>\n      <td>1,176</td>\n    </tr>\n    <tr>\n      <th>43</th>\n      <td>4378941</td>\n      <td>효성아파트</td>\n      <td>1,097</td>\n      <td>1,068</td>\n      <td>29</td>\n      <td>67</td>\n      <td>67</td>\n      <td>0</td>\n      <td>1,163</td>\n    </tr>\n    <tr>\n      <th>44</th>\n      <td>4378801</td>\n      <td>현대3차아파트</td>\n      <td>1,067</td>\n      <td>1,019</td>\n      <td>48</td>\n      <td>79</td>\n      <td>79</td>\n      <td>0</td>\n      <td>1,146</td>\n    </tr>\n    <tr>\n      <th>45</th>\n      <td>4368581</td>\n      <td>월곡리.충청대학</td>\n      <td>1,082</td>\n      <td>1,073</td>\n      <td>9</td>\n      <td>31</td>\n      <td>31</td>\n      <td>0</td>\n      <td>1,113</td>\n    </tr>\n    <tr>\n      <th>46</th>\n      <td>4374041</td>\n      <td>오송역</td>\n      <td>687</td>\n      <td>624</td>\n      <td>62</td>\n      <td>418</td>\n      <td>418</td>\n      <td>0</td>\n      <td>1,105</td>\n    </tr>\n    <tr>\n      <th>47</th>\n      <td>4377961</td>\n      <td>분평뜨란채1단지</td>\n      <td>1,004</td>\n      <td>958</td>\n      <td>46</td>\n      <td>97</td>\n      <td>97</td>\n      <td>0</td>\n      <td>1,101</td>\n    </tr>\n    <tr>\n      <th>48</th>\n      <td>4377411</td>\n      <td>신한은행</td>\n      <td>669</td>\n      <td>422</td>\n      <td>247</td>\n      <td>422</td>\n      <td>422</td>\n      <td>0</td>\n      <td>1,091</td>\n    </tr>\n    <tr>\n      <th>49</th>\n      <td>4363401</td>\n      <td>중앙여고,사창시장</td>\n      <td>780</td>\n      <td>723</td>\n      <td>57</td>\n      <td>304</td>\n      <td>304</td>\n      <td>0</td>\n      <td>1,084</td>\n    </tr>\n    <tr>\n      <th>50</th>\n      <td>4377871</td>\n      <td>시계탑</td>\n      <td>837</td>\n      <td>787</td>\n      <td>50</td>\n      <td>244</td>\n      <td>244</td>\n      <td>0</td>\n      <td>1,082</td>\n    </tr>\n  </tbody>\n</table>\n</div>"
     },
     "execution_count": 42,
     "metadata": {},
     "output_type": "execute_result"
    }
   ],
   "source": [
    "df.index=df[\"순위\"]\n",
    "del df[\"순위\"]\n",
    "df = df.drop(columns=['시계외 승차'])\n",
    "df"
   ],
   "metadata": {
    "collapsed": false,
    "ExecuteTime": {
     "end_time": "2024-05-30T09:05:51.559753800Z",
     "start_time": "2024-05-30T09:05:51.505598800Z"
    }
   },
   "id": "aaea607f71613d69",
   "execution_count": 42
  },
  {
   "cell_type": "code",
   "outputs": [
    {
     "name": "stdout",
     "output_type": "stream",
     "text": [
      "전체 승차 평균: 1161.06\n",
      "환승 승차 평균: 432.78\n",
      "총 이용인원 평균: 2327.72\n"
     ]
    }
   ],
   "source": [
    "#전체 승차 평균 -> \n",
    "df['승차'] = df['승차'].astype(str).str.replace(',', '').astype(float)\n",
    "# '순위' 열의 평균값 계산\n",
    "\n",
    "ride_mean = df[\"승차\"].mean()\n",
    "print(\"전체 승차 평균:\", ride_mean)\n",
    "\n",
    "#전체 환승 평균 \n",
    "df['환승 승차'] = df['환승 승차'].astype(str).str.replace(',', '').astype(float)\n",
    "transfer = df[\"환승 승차\"].mean()\n",
    "print(\"환승 승차 평균:\", transfer)\n",
    "\n",
    "#총 이용 인원 평균 \n",
    "df['총 이용인원'] = df['총 이용인원'].astype(str).str.replace(',', '').astype(float)\n",
    "total_customer = df[\"총 이용인원\"].mean()\n",
    "print(\"총 이용인원 평균:\", total_customer)\n"
   ],
   "metadata": {
    "collapsed": false,
    "ExecuteTime": {
     "end_time": "2024-05-30T09:09:51.929027900Z",
     "start_time": "2024-05-30T09:09:51.903659500Z"
    }
   },
   "id": "76acec7118f63e63",
   "execution_count": 47
  },
  {
   "cell_type": "code",
   "outputs": [
    {
     "name": "stdout",
     "output_type": "stream",
     "text": [
      "순위\n",
      "1     5.245521\n",
      "2     2.747251\n",
      "3     0.391481\n",
      "4     0.343981\n",
      "5     0.428711\n",
      "6    -0.214471\n",
      "7     1.749740\n",
      "8     1.008988\n",
      "9     0.116749\n",
      "10    0.182222\n",
      "11    0.367089\n",
      "12    0.273372\n",
      "13   -0.059132\n",
      "14    0.355535\n",
      "15    0.134722\n",
      "16    0.492901\n",
      "17    0.066680\n",
      "18   -0.408325\n",
      "19   -0.428866\n",
      "20   -0.342851\n",
      "21   -0.133592\n",
      "22   -0.196498\n",
      "23   -0.516164\n",
      "24   -0.654814\n",
      "25   -0.882046\n",
      "26   -0.278661\n",
      "27   -0.341567\n",
      "28   -0.082240\n",
      "29   -1.490566\n",
      "30    0.066680\n",
      "31   -0.273526\n",
      "32   -0.400622\n",
      "33   -0.548259\n",
      "34   -0.491772\n",
      "35   -0.449406\n",
      "36   -0.478934\n",
      "37   -0.770356\n",
      "38    0.082086\n",
      "39   -0.336432\n",
      "40   -0.292783\n",
      "41   -0.201633\n",
      "42   -0.423730\n",
      "43   -0.119470\n",
      "44   -0.182376\n",
      "45   -0.113051\n",
      "46   -0.689477\n",
      "47   -0.260688\n",
      "48   -0.948804\n",
      "49   -0.562381\n",
      "50   -0.480217\n",
      "Name: 승차, dtype: float64\n"
     ]
    },
    {
     "name": "stderr",
     "output_type": "stream",
     "text": [
      "C:\\Users\\home\\anaconda3\\anaconda_32bit\\lib\\site-packages\\IPython\\core\\pylabtools.py:151: UserWarning: Glyph 8722 (\\N{MINUS SIGN}) missing from current font.\n",
      "  fig.canvas.print_figure(bytes_io, **kw)\n"
     ]
    },
    {
     "data": {
      "text/plain": "<Figure size 720x432 with 1 Axes>",
      "image/png": "[encoded data removed]"
     },
     "metadata": {
      "needs_background": "light"
     },
     "output_type": "display_data"
    }
   ],
   "source": [
    "import matplotlib.pyplot as plt\n",
    "\n",
    "norm = lambda x : (x -x.mean())/ x.std() #정규화 (평균 0 표편 1)\n",
    "norm_ride = df['승차'].transform(norm)\n",
    "print(norm_ride)\n",
    "\n",
    "\n",
    "# 정규화된 '승차' 열 시각화\n",
    "plt.figure(figsize=(10, 6))\n",
    "plt.hist(norm_ride, bins=30, edgecolor='k')\n",
    "plt.title('Distribution of Normalized 승차')\n",
    "plt.xlabel('Normalized 승차')\n",
    "plt.ylabel('Frequency')\n",
    "plt.grid(True)\n",
    "plt.show()"
   ],
   "metadata": {
    "collapsed": false,
    "ExecuteTime": {
     "end_time": "2024-05-30T09:10:02.287480900Z",
     "start_time": "2024-05-30T09:10:02.097456500Z"
    }
   },
   "id": "5ba5524734260b1c",
   "execution_count": 49
  }
 ],
 "metadata": {
  "kernelspec": {
   "display_name": "Python 3",
   "language": "python",
   "name": "python3"
  },
  "language_info": {
   "codemirror_mode": {
    "name": "ipython",
    "version": 2
   },
   "file_extension": ".py",
   "mimetype": "text/x-python",
   "name": "python",
   "nbconvert_exporter": "python",
   "pygments_lexer": "ipython2",
   "version": "2.7.6"
  }
 },
 "nbformat": 4,
 "nbformat_minor": 5
}
